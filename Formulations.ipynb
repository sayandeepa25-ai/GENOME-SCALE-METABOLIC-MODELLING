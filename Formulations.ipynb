{
 "cells": [
  {
   "cell_type": "markdown",
   "metadata": {},
   "source": [
    "## Full formulation\n",
    "### Formulation as described in O'Brien et al. (2013)\n",
    "$$\n",
    "\\begin{align}\n",
    "\\max_{v,\\mu} \\ & \\mu = c^T v \\\\\n",
    "\\mathrm{s.t.} \\ & Sv = 0 \\\\\n",
    "& v_{dilution,ribo} \\geq \\sum_{i \\in Peptide}\\left( \\frac{l_{p,i}}{c_{ribo}\\kappa_{\\tau}} v_{translation,i} (\\mu+r_0\\kappa_{\\tau}) \\right) \\\\\n",
    "& v_{dilution,RNAP} \\geq \\sum_{i \\in TU}\\left( \\frac{l_{TU,i}}{3 c_{ribo}\\kappa_{\\tau}} v_{transcription,i} (\\mu+r_0\\kappa_{\\tau}) \\right) \\\\\n",
    "& v_{dilution,j} \\geq \\frac{1}{k_{deg,j}} \\cdot \\mu \\cdot v_{degradation,j}, & \\forall j \\in mRNA \\\\\n",
    "& v_{degradation,j} \\geq \\frac{3 k_{deg,j}}{\\kappa_{\\tau} c_{mRNA}} \\cdot \\frac{\\mu + \\kappa_{\\tau} r_0}{\\mu} v_{translation,j}  , & \\forall j \\in mRNA \\\\\n",
    "& v_{dilution,j} \\geq \\frac{1}{\\kappa_{\\tau} c_{tRNA,j}} (\\mu + \\kappa_{\\tau} r_0)  v_{charging,j} , & \\forall j \\in tRNA \\\\\n",
    "& v_{dilution,j} \\geq \\mu \\sum_{i} \\left( \\frac{1}{k_{eff,i}} v_{usage,i} \\right), & \\forall j \\in Enzyme \\\\\n",
    "& v^{L} \\leq v \\leq v^{U} \\\\\n",
    "& \\mu \\leq v_{biomass\\_dilution} \\leq \\mu \n",
    "\\end{align}\n",
    "$$\n",
    "\n",
    "where $\\mu$ is the growth rate, $v$ is the vector of all fluxes, $l_{p,i}$ is the length of peptide $i$, $l_{TU,i}$ is the length of transcription unit $i$; $c_{ribo}$, $\\kappa_{\\tau}$, $r_0$, $k_{deg,j}$, $k_{eff,j}$, $c_{mRNA,j}$, $c_{tRNA,j}$ are constants; and $Peptide$, $TU$, $mRNA$, $tRNA$, $Enzyme$ are index sets of $v$ representing peptides, transcription units, mRNA, tRNA, and metabolic enzymes, respectively."
   ]
  },
  {
   "cell_type": "markdown",
   "metadata": {},
   "source": [
    "# For ME modeling overview figure"
   ]
  },
  {
   "cell_type": "markdown",
   "metadata": {},
   "source": [
    "$$\n",
    "\\begin{pmatrix}\n",
    "& Met  & Trans & Charg & Transcr \\\\\n",
    "met1 & -1 & . & . & .\\\\\n",
    "met2 & 1 & . & . & .\\\\ \n",
    "enz1 & -\\frac{\\mu}{k_{eff}} & 1 & . & .\\\\\n",
    "mRNA & . &-\\frac{\\mu + K_{\\tau}r_0}{K_{\\tau}c_{mRNA}}& . & 1\\\\\n",
    "ribo & . &-\\frac{l_{p,i}(\\mu + K_{\\tau}r_0)}{c_{ribo}K_{\\tau}}& . & .\\\\\n",
    "tRNA\\_char & . & -1 & 1 & .\\\\\n",
    "tRNA & . & . & -(1 + \\frac{\\mu + K_{\\tau}r_0}{K_{\\tau}c_{tRNA,j}}) & .\\\\\n",
    "aa & . & . & -(1 + \\frac{\\mu + K_{\\tau}r_0}{K_{\\tau}c_{tRNA,j}}) & . \\\\\n",
    "synth & . & . & -\\frac{\\mu}{k_{eff}} & . \\\\\n",
    "nuc & . & . & . & -1\\\\\n",
    "RNAP & . & . & . & - \\frac{l_{TU,i}(\\mu + K_{\\tau}r_0)}{3c_{ribo}K_{\\tau}}\n",
    "\\end{pmatrix}\n",
    "$$"
   ]
  },
  {
   "cell_type": "markdown",
   "metadata": {},
   "source": [
    "$$\n",
    "\\begin{align*}\n",
    "v_{degradation,j} \\cdot \\mu &\\geq \\frac{3 k_{deg,j} (\\mu + \\kappa_\\tau r_0)}{\\kappa_\\tau c_{mRNA}} v_{translation,j}\n",
    "\\end{align*}\n",
    "$$"
   ]
  },
  {
   "cell_type": "markdown",
   "metadata": {},
   "source": [
    "$$\n",
    "\\begin{align*}\n",
    "mRNA &: v_{transc} - v_{degradation} - v_{dilution} - v_{translation} = 0 \\\\\n",
    "& v_{transc} - v_{degradation} - v_{dilution + translation}= 0 \\\\\n",
    "Deg-constraint &: v_{degradation,j} \\geq \\frac{3 k_{deg,j}}{\\kappa_{\\tau} c_{mRNA}} \\cdot \\frac{\\mu + \\kappa_{\\tau} r_0}{\\mu} v_{translation,j} \\\\\n",
    "& v_{degradation,j} \\cdot \\mu \\geq \\frac{3 k_{deg,j} (\\mu + \\kappa_\\tau r_0)}{\\kappa_\\tau c_{mRNA}} v_{translation,j}\n",
    "\\end{align*}\n",
    "$$"
   ]
  },
  {
   "cell_type": "markdown",
   "metadata": {},
   "source": [
    "$$\n",
    "\\begin{align*}\n",
    "v_{degradation,j} &\\geq \\frac{\\mu}{k_{eff,deg}} v_{translation,j} \\\\\n",
    "k_{mRNA,deg} &= \\frac{\\mu \\kappa_{\\tau} c_{mRNA,j}}{3 k_{deg,j}(1 + \\kappa_{\\tau} r_0/\\mu)} \\\\\n",
    "k_{mRNA,cat} &= \\frac{c_{mRNA} \\kappa_\\tau \\mu}{\\mu + r_0 \\kappa_\\tau} \\\\\n",
    "v_{dil,mRNA} &\\geq \\frac{\\mu}{k_{mRNA,cat}} v_{translation,j} \\\\\n",
    "v_{deg,mRNA} &\\geq \\frac{k_{deg,mRNA}}{k_{mRNA,cat}} v_{translation,j} \\\\\n",
    "\\end{align*}\n",
    "$$"
   ]
  },
  {
   "cell_type": "markdown",
   "metadata": {},
   "source": [
    "$$\n",
    "\\begin{align*}\n",
    "\\frac{k_{mRNA,deg}}{k_{mRNA,cat}} &= \\frac{\\mu + r_0 \\kappa_\\tau}{3k_{deg,j}(1+\\kappa_\\tau r_0/\\mu)}\n",
    "\\end{align*}\n",
    "$$"
   ]
  },
  {
   "cell_type": "markdown",
   "metadata": {},
   "source": [
    "$$\n",
    "\\begin{align*}\n",
    "\\frac{k_{mRNA,deg}}{k_{mRNA,cat}} &= \\frac{\\mu + r_0 \\kappa_\\tau}{3k_{deg,j}(1+\\kappa_\\tau r_0/\\mu)}\n",
    "\\end{align*}\n",
    "$$"
   ]
  },
  {
   "cell_type": "markdown",
   "metadata": {},
   "source": [
    "### Constants\n",
    "$$\n",
    "\\begin{align*}\n",
    "\\frac{R}{P} &= \\frac{\\mu + \\kappa_{\\tau} r_0}{\\kappa_{\\tau}}\\\\\n",
    "c_{ribo} &= \\frac{m_{rr,i}}{m_{aa} f_{rRNA}} =  \\frac{\\sim 1700 \\mathrm{\\ kDa}}{0.109 \\mathrm{\\ kDa} \\cdot 0.86} \\approx 18135 \\\\\n",
    "\\kappa_{\\tau} &= 4.5 \\mathrm{\\ h}^{-1} \\\\\n",
    "r_0 &= 0.087 \\\\\n",
    "c_{tRNA,j} &= \\frac{m_{tRNA,j}}{m_{aa} f_{tRNA}} = \\frac{\\sim 25 \\mathrm{\\ kDa}}{0.109 \\mathrm{\\ kDa} \\cdot 0.12} \\approx 1911 \\\\\n",
    "k_{eff,tRNA charging} &= \\frac{\\kappa_\\tau c_{tRNA,j}\\mu}{\\mu + \\kappa_\\tau r_0} = \\frac{P m_{tRNA}\\mu}{Rf_{tRNA}m_{aa} } \\\\\n",
    "\\end{align*}\n",
    "$$"
   ]
  },
  {
   "cell_type": "code",
   "execution_count": 2,
   "metadata": {
    "collapsed": false
   },
   "outputs": [
    {
     "name": "stdout",
     "output_type": "stream",
     "text": [
      "c_tRNA * kt =  8600.91743119\n",
      "18135.2677619\n",
      "1911.31498471\n",
      "81608.7049285\n",
      "8600.91743119\n",
      "12.0\n"
     ]
    }
   ],
   "source": [
    "kt = 4.5\n",
    "r0 = 0.087\n",
    "c_ribo = 1700/0.109/0.86\n",
    "m_tRNA = 25    # kDa\n",
    "m_aa = 0.109   # kDa\n",
    "k_deg = 1.0/5 * 60.0  # 1/5 1/min 60 min/h # h-1\n",
    "f_tRNA = 0.12\n",
    "c_tRNA = m_tRNA/(m_aa * f_tRNA)\n",
    "# tRNA charging keff\n",
    "keff_tRNA_charging = kt * c_tRNA\n",
    "# Translation keff\n",
    "keff_transl_per_length = c_ribo*kt\n",
    "print 'c_tRNA * kt = ',c_tRNA * kt\n",
    "print c_ribo\n",
    "print c_tRNA\n",
    "print keff_transl_per_length\n",
    "print keff_tRNA_charging\n",
    "print k_deg"
   ]
  },
  {
   "cell_type": "code",
   "execution_count": 20,
   "metadata": {
    "collapsed": false
   },
   "outputs": [
    {
     "name": "stdout",
     "output_type": "stream",
     "text": [
      "0.185779816514\n"
     ]
    }
   ],
   "source": [
    "m_nt = 324./1000.\n",
    "f_mRNA = .02\n",
    "c_mRNA = m_nt/(f_mRNA*m_aa) \n",
    "print c_mRNA * kt / 3600."
   ]
  },
  {
   "cell_type": "code",
   "execution_count": 30,
   "metadata": {
    "collapsed": false
   },
   "outputs": [
    {
     "data": {
      "text/plain": [
       "0.39149999999999996"
      ]
     },
     "execution_count": 30,
     "metadata": {},
     "output_type": "execute_result"
    }
   ],
   "source": [
    "r0 * kt"
   ]
  },
  {
   "cell_type": "code",
   "execution_count": 12,
   "metadata": {
    "collapsed": false
   },
   "outputs": [
    {
     "data": {
      "text/plain": [
       "2.38914373088685"
      ]
     },
     "execution_count": 12,
     "metadata": {},
     "output_type": "execute_result"
    }
   ],
   "source": [
    "c_tRNA * kt/3600."
   ]
  },
  {
   "cell_type": "code",
   "execution_count": 32,
   "metadata": {
    "collapsed": false
   },
   "outputs": [
    {
     "data": {
      "text/plain": [
       "1911.31498470948"
      ]
     },
     "execution_count": 32,
     "metadata": {},
     "output_type": "execute_result"
    }
   ],
   "source": [
    "c_tRNA"
   ]
  },
  {
   "cell_type": "code",
   "execution_count": 4,
   "metadata": {
    "collapsed": false
   },
   "outputs": [],
   "source": [
    "f = lambda x: ((x / kt) + r0)"
   ]
  },
  {
   "cell_type": "code",
   "execution_count": 7,
   "metadata": {
    "collapsed": false
   },
   "outputs": [
    {
     "data": {
      "text/plain": [
       "0.29236933333333337"
      ]
     },
     "execution_count": 7,
     "metadata": {},
     "output_type": "execute_result"
    }
   ],
   "source": [
    "f(0.924162)"
   ]
  },
  {
   "cell_type": "code",
   "execution_count": 14,
   "metadata": {
    "collapsed": false
   },
   "outputs": [
    {
     "name": "stderr",
     "output_type": "stream",
     "text": [
      "/usr/local/lib/python2.7/dist-packages/IPython/kernel/__main__.py:1: RuntimeWarning: divide by zero encountered in divide\n",
      "  if __name__ == '__main__':\n"
     ]
    },
    {
     "data": {
      "text/plain": [
       "[<matplotlib.lines.Line2D at 0x7fd136782350>]"
      ]
     },
     "execution_count": 14,
     "metadata": {},
     "output_type": "execute_result"
    },
    {
     "data": {
      "image/png": "[encoded data removed]",
      "text/plain": [
       "<matplotlib.figure.Figure at 0x7fd15c0d1210>"
      ]
     },
     "metadata": {},
     "output_type": "display_data"
    }
   ],
   "source": [
    "%matplotlib inline\n",
    "x = linspace(0, 1)\n",
    "plot(x, f(x))"
   ]
  },
  {
   "cell_type": "code",
   "execution_count": 1,
   "metadata": {
    "collapsed": false
   },
   "outputs": [
    {
     "data": {
      "text/plain": [
       "16.319194823867722"
      ]
     },
     "execution_count": 1,
     "metadata": {},
     "output_type": "execute_result"
    }
   ],
   "source": [
    "mu = 1.0\n",
    "mu * 22.7 / (mu + 0.391)"
   ]
  },
  {
   "cell_type": "markdown",
   "metadata": {},
   "source": [
    "### Generalized formulation\n",
    "$$\n",
    "\\begin{align}\n",
    "\\max_{v,\\mu} \\ & \\mu = c^T v = v_{j:j=growth}\\\\\n",
    "\\mathrm{s.t.} \\ & S v = 0 \\\\\n",
    "& \\mu \\sum_{j=1}^{n} a_{ij} v_j + \\sum_{j=1}^{n} b_{ij} v_j \\leq 0, & i=1,\\dots,q \\\\\n",
    "& v^L \\leq v \\leq v^U\n",
    "\\end{align}\n",
    "$$\n",
    "where $q$ is the number of bilinear constraints, and $a_{ij}$ and $b_{ij}$ are constants."
   ]
  },
  {
   "cell_type": "markdown",
   "metadata": {},
   "source": [
    "### Piecewise McCormick relaxation formulation of BLP\n",
    "$$\n",
    "\\begin{align}\n",
    "\\min_{x,w,y} \\ & c^T x \\\\\n",
    "\\mathrm{s.t.} \\ & Ax = b \\\\\n",
    "& w_\\textit{ij} \\geq \\sum_n(\\hat{x}_\\textit{ijn} \\cdot x^L_\\textit{jn} + x^L_i \\cdot \\hat{x}_\\textit{jn} - x^L_i \\cdot x^L_\\textit{jn} \\cdot y_\\textit{jn})\\\\\n",
    "& w_\\textit{ij} \\geq \\sum_n(\\hat{x}_\\textit{ijn} \\cdot x^U_\\textit{jn} + x^U_i \\cdot \\hat{x}_\\textit{jn} - x^U_i \\cdot x^U_\\textit{jn} \\cdot y_\\textit{jn}) \\\\\n",
    "& w_\\textit{ij} \\leq \\sum_n(\\hat{x}_\\textit{ijn} \\cdot x^L_\\textit{jn} + x^U_i \\cdot \\hat{x}_\\textit{jn} - x^U_i \\cdot x^L_\\textit{jn} \\cdot y_\\textit{jn}) \\\\\n",
    "& w_\\textit{ij} \\leq \\sum_n(\\hat{x}_\\textit{ijn} \\cdot x^U_\\textit{jn} + x^L_i \\cdot \\hat{x}_\\textit{jn} - x^L_i \\cdot x^U_\\textit{jn} \\cdot y_\\textit{jn}) \\\\\n",
    "& x_i = \\sum_n \\hat{x}_\\textit{ijn} \\\\\n",
    "& x_j = \\sum_n \\hat{x}_\\textit{jn} \\\\\n",
    "& x_i^L y_\\textit{jn} \\leq \\hat{x}_\\textit{ijn} \\leq x_i^U y_\\textit{jn} \\\\\n",
    "& x_\\textit{jn}^L y_\\textit{jn} \\leq \\hat{x}_\\textit{jn} \\leq x_\\textit{jn}^U y_\\textit{jn} \\\\\n",
    "& \\sum_n y_\\textit{jn} = 1 \\\\\n",
    "& x^L_\\textit{jn} = x^L_j+ \\frac{(x^U_j-x^L_j) \\cdot (n-1)}{N} \\\\\n",
    "& x^L_\\textit{jn} = x^L_j+ \\frac{(x^U_j-x^L_j) \\cdot n}{N} \\\\\n",
    "\\end{align}\n",
    "$$"
   ]
  },
  {
   "cell_type": "markdown",
   "metadata": {},
   "source": [
    "### Piecewise McCormick relaxation formulation of tiny-ME\n",
    "$$\n",
    "\\begin{align}\n",
    "\\max_{v,\\mu,\\hat{v},\\hat{\\mu},w,y} \\ & \\mu = c^T v \\\\\n",
    "\\mathrm{s.t.} \\ & Sv = 0 \\\\\n",
    "& w_\\textit{i} \\geq \\sum_n(\\hat{v}_\\textit{in} \\cdot \\mu^L_\\textit{n} + v^L_i \\cdot \\hat{\\mu}_n - v^L_i \\cdot \\mu^L_\\textit{n} \\cdot y_\\textit{n})\\\\\n",
    "& w_\\textit{i} \\geq \\sum_n(\\hat{v}_\\textit{in} \\cdot \\mu^U_\\textit{n} + v^U_i \\cdot \\hat{\\mu}_n - v^U_i \\cdot \\mu^U_\\textit{n} \\cdot y_\\textit{n}) \\\\\n",
    "& w_\\textit{i} \\leq \\sum_n(\\hat{v}_\\textit{in} \\cdot \\mu^L_\\textit{n} + v^U_i \\cdot \\hat{\\mu}_n - v^U_i \\cdot \\mu^L_\\textit{n} \\cdot y_\\textit{n}) \\\\\n",
    "& w_\\textit{i} \\leq \\sum_n(\\hat{v}_\\textit{in} \\cdot \\mu^U_\\textit{n} + v^L_i \\cdot \\hat{\\mu}_n - v^L_i \\cdot \\mu^U_\\textit{n} \\cdot y_\\textit{n}) \\\\\n",
    "& v^L_i y_n \\leq \\hat{v}_\\textit{in} \\leq v^U_i y_n \\\\\n",
    "& \\mu^L_n y_n \\leq \\hat{\\mu}_n \\leq \\mu^U_n y_n \\\\\n",
    "& v_i = \\sum_{n}\\hat{v}_\\textit{in} \\\\\n",
    "& \\mu = \\sum_{n}\\hat{\\mu}_n \\\\\n",
    "& \\sum_n y_\\textit{n} = 1 \\\\\n",
    "& \\mu^L_\\textit{n} = \\mu^L+ \\frac{(\\mu^U-\\mu^L) \\cdot (n-1)}{N} \\\\\n",
    "& \\mu^L_\\textit{n} = \\mu^L+ \\frac{(\\mu^U-\\mu^L) \\cdot n}{N} \\\\\n",
    "\\end{align}\n",
    "$$"
   ]
  },
  {
   "cell_type": "markdown",
   "metadata": {},
   "source": [
    "### Radix-based discretization of BLP\n",
    "$$\n",
    "\\begin{align}\n",
    "\\max_{x} \\ & c^T x \\\\\n",
    "\\mathrm{s.t.} \\ & Ax = b \\\\\n",
    "& \\sum_i \\sum_j a_\\textit{ij} x_i x_j = 0 \\\\\n",
    "\\end{align}\n",
    "$$"
   ]
  },
  {
   "cell_type": "markdown",
   "metadata": {},
   "source": [
    "can be approximate with specified precision by\n",
    "\n",
    "$$\n",
    "\\begin{align}\n",
    "\\max_{x,w,\\hat{x},z} \\ & c^T x \\\\\n",
    "\\mathrm{s.t.} \\ & Ax = b \\\\\n",
    "& \\sum_i \\sum_j a_\\textit{ij} w_\\textit{ij} = 0 \\\\\n",
    "& w_\\textit{ij} = \\sum_{l=p}^P \\sum_{k=0}^9 10^l \\cdot k \\cdot \\hat{x}_\\textit{ijkl} \\\\\n",
    "& x_j = \\sum_{l=p}^P \\sum_{k=0}^9 10^l \\cdot k \\cdot z_\\textit{jkl} \\\\\n",
    "& x_i^L \\cdot z_\\textit{jkl} \\leq \\hat{x}_\\textit{ijkl} \\leq x_i^U \\cdot z_\\textit{jkl} \\\\\n",
    "& \\sum_{k=0}^9 \\hat{x}_\\textit{ijkl} = x_i \\\\\n",
    "& \\sum_{k=0}^9 z_\\textit{jkl} = 1 \\\\\n",
    "& z_\\textit{jkl} \\in \\{0,1\\}\n",
    "\\end{align}\n",
    "$$"
   ]
  },
  {
   "cell_type": "markdown",
   "metadata": {},
   "source": [
    "### Radix-based discretization of tiny-ME\n",
    "$$\n",
    "\\begin{align}\n",
    "\\max_{v,\\mu,w,\\hat{v},z} \\ & \\mu = c^T v\\\\\n",
    "\\mathrm{s.t.} \\ & S v = 0 \\\\\n",
    "& \\sum_j a_\\textit{i,j} w_j + \\sum_j b_\\textit{i,j} v_j = 0 \\\\\n",
    "& w_j = \\sum_{l=p}^P \\sum_{k=0}^9 10^l \\cdot k \\cdot \\hat{v}_\\textit{jkl} \\\\\n",
    "& \\mu = \\sum_{l=p}^P \\sum_{k=0}^9 10^l \\cdot k \\cdot z_\\textit{kl} \\\\\n",
    "& v_j^L \\cdot z_\\textit{kl} \\leq \\hat{v}_\\textit{jkl} \\leq v_j^U \\cdot z_\\textit{kl} \\\\\n",
    "& \\sum_{k=0}^9 \\hat{v}_\\textit{jkl} = v_j, & \\forall l \\in L, \\forall j \\in Coupling \\\\\n",
    "& \\sum_{k=0}^9 z_\\textit{kl} = 1, & \\forall l \\in L \\\\\n",
    "& z_\\textit{kl} \\in \\{0,1\\}\n",
    "\\end{align}\n",
    "$$"
   ]
  },
  {
   "cell_type": "markdown",
   "metadata": {},
   "source": [
    "#### Additional tightening via McCormick envelopes\n",
    "$$\n",
    "\\begin{align}\n",
    "& w_\\textit{j} \\geq v_\\textit{j} \\cdot \\mu^L + v^L_j \\cdot \\mu - v^L_j \\cdot \\mu^L \\\\\n",
    "& w_\\textit{j} \\geq v_\\textit{j} \\cdot \\mu^U + v^U_j \\cdot \\mu - v^U_j \\cdot \\mu^U \\\\\n",
    "& w_\\textit{j} \\leq v_\\textit{j} \\cdot \\mu^L + v^U_j \\cdot \\mu - v^U_j \\cdot \\mu^L \\\\\n",
    "& w_\\textit{j} \\leq v_\\textit{j} \\cdot \\mu^U + v^L_j \\cdot \\mu - v^L_j \\cdot \\mu^U \\\\\n",
    "\\end{align}\n",
    "$$"
   ]
  },
  {
   "cell_type": "markdown",
   "metadata": {},
   "source": [
    "### Additional nonlinear constraints in GSM ME\n",
    "$$\n",
    "20 \\cdot \\textrm{average_aa_mw} \\cdot \\textrm{proportion_of_rna_that_is_mrna}\n",
    "$$"
   ]
  },
  {
   "cell_type": "code",
   "execution_count": 2,
   "metadata": {
    "collapsed": false
   },
   "outputs": [
    {
     "name": "stdout",
     "output_type": "stream",
     "text": [
      "0.0184129956861297 \\frac{\\mu unmodeled_{protein proportion of proteome} \\left(0.03844203 \\frac{\\mu^{3.90364139}}{\\mu^{3.90364139} + 0.11685874} - \\frac{0.0374337637973698 \\times 2^{0.231049057876158 \\mu} \\left(- 0.45612411 \\times 2^{0.231049057876158 \\mu} + 3.9 \\times 2^{0.231049060186648 \\mu}\\right) + 0.0170744421960255 \\times 2^{0.462098115752316 \\mu}}{0.052012300930823 \\times 2^{0.462098115752316 \\mu} \\left(- 1.43295615310118 \\times 2^{0.231049057876158 \\mu} + 12.2522113490002 \\times 2^{0.231049060186648 \\mu}\\right) + 0.0372656733278866 \\times 2^{0.693147173628473 \\mu}} + 0.91768589\\right)}{0.222222222222222 \\mu + 1.087}\n"
     ]
    },
    {
     "data": {
      "text/plain": [
       "0.000506667522842899"
      ]
     },
     "execution_count": 2,
     "metadata": {},
     "output_type": "execute_result"
    }
   ],
   "source": [
    "from sympy import init_printing, symbols, latex, simplify\n",
    "from sympy.printing.mathml import print_mathml\n",
    "from sympy.parsing.sympy_parser import parse_expr\n",
    "expr = \"1058.0*average_aa_mw*proportion_of_rna_that_is_rrna*(0.222222222222222*growth_rate_in_per_hour + 1.087)*(0.03844203*growth_rate_in_per_hour**3.90364139/(growth_rate_in_per_hour**3.90364139 + 0.11685874) - 6.53086343855605e-9*(5731824.61240473*2**(0.231049057876158*growth_rate_in_per_hour)*(-0.45612411*2**(0.231049057876158*growth_rate_in_per_hour) + 3.9*2**(0.231049060186648*growth_rate_in_per_hour)) + 2614423.4000092*2**(0.462098115752316*growth_rate_in_per_hour))/(0.052012300930823*2**(0.462098115752316*growth_rate_in_per_hour)*(-1.43295615310118*2**(0.231049057876158*growth_rate_in_per_hour) + 12.2522113490002*2**(0.231049060186648*growth_rate_in_per_hour)) + 0.0372656733278866*2**(0.693147173628473*growth_rate_in_per_hour)) + 0.91768589 - (0.03844203*growth_rate_in_per_hour**3.90364139/(growth_rate_in_per_hour**3.90364139 + 0.11685874) - 6.53086343855605e-9*(5731824.61240473*2**(0.231049057876158*growth_rate_in_per_hour)*(-0.45612411*2**(0.231049057876158*growth_rate_in_per_hour) + 3.9*2**(0.231049060186648*growth_rate_in_per_hour)) + 2614423.4000092*2**(0.462098115752316*growth_rate_in_per_hour))/(0.052012300930823*2**(0.462098115752316*growth_rate_in_per_hour)*(-1.43295615310118*2**(0.231049057876158*growth_rate_in_per_hour) + 12.2522113490002*2**(0.231049060186648*growth_rate_in_per_hour)) + 0.0372656733278866*2**(0.693147173628473*growth_rate_in_per_hour)) + 0.91768589)/(0.222222222222222*growth_rate_in_per_hour + 1.087))/(mass_rrna_per_ribosome*(0.03844203*growth_rate_in_per_hour**3.90364139/(growth_rate_in_per_hour**3.90364139 + 0.11685874) - 6.53086343855605e-9*(5731824.61240473*2**(0.231049057876158*growth_rate_in_per_hour)*(-0.45612411*2**(0.231049057876158*growth_rate_in_per_hour) + 3.9*2**(0.231049060186648*growth_rate_in_per_hour)) + 2614423.4000092*2**(0.462098115752316*growth_rate_in_per_hour))/(0.052012300930823*2**(0.462098115752316*growth_rate_in_per_hour)*(-1.43295615310118*2**(0.231049057876158*growth_rate_in_per_hour) + 12.2522113490002*2**(0.231049060186648*growth_rate_in_per_hour)) + 0.0372656733278866*2**(0.693147173628473*growth_rate_in_per_hour)) + 0.91768589))\"\n",
    "#expr = \"(22039.3155555555*growth_rate_in_per_hour + 107805.31204)*(0.03844203*growth_rate_in_per_hour**3.90364139/(growth_rate_in_per_hour**3.90364139 + 0.11685874) - (0.0374337637973698*2**(0.231049057876158*growth_rate_in_per_hour)*(-0.45612411*2**(0.231049057876158*growth_rate_in_per_hour) + 3.9*2**(0.231049060186648*growth_rate_in_per_hour)) + 0.0170744421960255*2**(0.462098115752316*growth_rate_in_per_hour))/(0.052012300930823*2**(0.462098115752316*growth_rate_in_per_hour)*(-1.43295615310118*2**(0.231049057876158*growth_rate_in_per_hour) + 12.2522113490002*2**(0.231049060186648*growth_rate_in_per_hour)) + 0.0372656733278866*2**(0.693147173628473*growth_rate_in_per_hour)) + 0.91768589 - (0.03844203*growth_rate_in_per_hour**3.90364139/(growth_rate_in_per_hour**3.90364139 + 0.11685874) - (0.0374337637973698*2**(0.231049057876158*growth_rate_in_per_hour)*(-0.45612411*2**(0.231049057876158*growth_rate_in_per_hour) + 3.9*2**(0.231049060186648*growth_rate_in_per_hour)) + 0.0170744421960255*2**(0.462098115752316*growth_rate_in_per_hour))/(0.052012300930823*2**(0.462098115752316*growth_rate_in_per_hour)*(-1.43295615310118*2**(0.231049057876158*growth_rate_in_per_hour) + 12.2522113490002*2**(0.231049060186648*growth_rate_in_per_hour)) + 0.0372656733278866*2**(0.693147173628473*growth_rate_in_per_hour)) + 0.91768589)/(0.222222222222222*growth_rate_in_per_hour + 1.087))/(65351.451*growth_rate_in_per_hour**3.90364139/(growth_rate_in_per_hour**3.90364139 + 0.11685874) - 1700000.0*(0.0374337637973698*2**(0.231049057876158*growth_rate_in_per_hour)*(-0.45612411*2**(0.231049057876158*growth_rate_in_per_hour) + 3.9*2**(0.231049060186648*growth_rate_in_per_hour)) + 0.0170744421960255*2**(0.462098115752316*growth_rate_in_per_hour))/(0.052012300930823*2**(0.462098115752316*growth_rate_in_per_hour)*(-1.43295615310118*2**(0.231049057876158*growth_rate_in_per_hour) + 12.2522113490002*2**(0.231049060186648*growth_rate_in_per_hour)) + 0.0372656733278866*2**(0.693147173628473*growth_rate_in_per_hour)) + 1560066.013)\"\n",
    "expr = \"0.0184129956861297*growth_rate_in_per_hour*unmodeled_protein_proportion_of_proteome*(0.03844203*growth_rate_in_per_hour**3.90364139/(growth_rate_in_per_hour**3.90364139 + 0.11685874) - 6.53086343855605e-9*(5731824.61240473*2**(0.231049057876158*growth_rate_in_per_hour)*(-0.45612411*2**(0.231049057876158*growth_rate_in_per_hour) + 3.9*2**(0.231049060186648*growth_rate_in_per_hour)) + 2614423.4000092*2**(0.462098115752316*growth_rate_in_per_hour))/(0.052012300930823*2**(0.462098115752316*growth_rate_in_per_hour)*(-1.43295615310118*2**(0.231049057876158*growth_rate_in_per_hour) + 12.2522113490002*2**(0.231049060186648*growth_rate_in_per_hour)) + 0.0372656733278866*2**(0.693147173628473*growth_rate_in_per_hour)) + 0.91768589)/(0.222222222222222*growth_rate_in_per_hour + 1.087)\"\n",
    "#init_printing()   # Doesn't work...\n",
    "expr = expr.replace('growth_rate_in_per_hour','mu')\n",
    "\n",
    "sexpr = parse_expr(expr)\n",
    "\n",
    "#sexpr = simplify(sexpr)\n",
    "\n",
    "l = latex(sexpr)\n",
    "print l\n",
    "#print_mathml(sexpr)\n",
    "\n",
    "import sympy as sp\n",
    "sp.N(sexpr,subs={'mu' : 0.1, 'unmodeled_protein_proportion_of_proteome' : 0.45})\n"
   ]
  },
  {
   "cell_type": "markdown",
   "metadata": {},
   "source": [
    "$$\n",
    "0.0184129956861297 \\frac{\\mu unmodeled_{protein proportion of proteome} \\left(0.03844203 \\frac{\\mu^{3.90364139}}{\\mu^{3.90364139} + 0.11685874} - \\frac{0.0374337637973698 \\times 2^{0.231049057876158 \\mu} \\left(- 0.45612411 \\times 2^{0.231049057876158 \\mu} + 3.9 \\times 2^{0.231049060186648 \\mu}\\right) + 0.0170744421960255 \\times 2^{0.462098115752316 \\mu}}{0.052012300930823 \\times 2^{0.462098115752316 \\mu} \\left(- 1.43295615310118 \\times 2^{0.231049057876158 \\mu} + 12.2522113490002 \\times 2^{0.231049060186648 \\mu}\\right) + 0.0372656733278866 \\times 2^{0.693147173628473 \\mu}} + 0.91768589\\right)}{0.222222222222222 \\mu + 1.087}\n",
    "$$"
   ]
  },
  {
   "cell_type": "code",
   "execution_count": 3,
   "metadata": {
    "collapsed": false
   },
   "outputs": [
    {
     "name": "stdout",
     "output_type": "stream",
     "text": [
      "37.1559633028\n",
      "37.1559629312\n"
     ]
    }
   ],
   "source": [
    "r0 = 0.087\n",
    "kt = 4.5\n",
    "kdeg = 1/5 * 60\n",
    "fmRNA = 0.02\n",
    "mnt = 324\n",
    "maa = 109\n",
    "cmRNA = mnt / fmRNA / maa\n",
    "\n",
    "print 1.087/0.0292550617283951\n",
    "print 0.22222222/0.00598079561042524\n"
   ]
  },
  {
   "cell_type": "code",
   "execution_count": 4,
   "metadata": {
    "collapsed": false
   },
   "outputs": [
    {
     "data": {
      "text/plain": [
       "'CPLX0-222_TU_p_4325087_4328261'"
      ]
     },
     "execution_count": 4,
     "metadata": {},
     "output_type": "execute_result"
    }
   ],
   "source": [
    "'CPLX0-222_TU_p_4325087_4328261'"
   ]
  },
  {
   "cell_type": "markdown",
   "metadata": {},
   "source": [
    "### Minimal proteome identification procedure\n",
    "#### Version A: fewer differentially expressed genes (DEGs) than non-DEGs\n",
    "$$\n",
    "\\begin{align}\n",
    "\\min_{v,\\ y} \\ & {\\sum_{i} y_i} \\\\\n",
    "\\mathrm{s.t.} \\ & Sv=0 \\\\\n",
    "& v_{biomass} \\geq \\mu^{min} \\\\\n",
    "& v_j^L \\leq v_j \\leq v_j^U, & \\forall j \\in NDEGs \\\\\n",
    "& y_j v_j^L \\leq v_j \\leq y_j v_j^U, & \\forall j \\in DEGs\\\\ \n",
    "\\end{align}\n",
    "$$\n",
    "where the sets $DEGs$ and $NDEGs$ are determined using meta-analysis of differential gene expression data sets across strains and/or conditions. Also, $\\mu^{min}$ is the minimum required growth rate for the cell to be considered viable."
   ]
  }
 ],
 "metadata": {
  "kernelspec": {
   "display_name": "Python 2",
   "language": "python",
   "name": "python2"
  },
  "language_info": {
   "codemirror_mode": {
    "name": "ipython",
    "version": 2
   },
   "file_extension": ".py",
   "mimetype": "text/x-python",
   "name": "python",
   "nbconvert_exporter": "python",
   "pygments_lexer": "ipython2",
   "version": "2.7.6"
  }
 },
 "nbformat": 4,
 "nbformat_minor": 0
}
