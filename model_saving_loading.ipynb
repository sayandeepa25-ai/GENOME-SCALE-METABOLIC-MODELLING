{
 "cells": [
  {
   "cell_type": "markdown",
   "metadata": {},
   "source": [
    "# ME-model Saving and Loading\n",
    "\n",
    "There are currently 3 methods that can be used to save/load an ME-model using COBRAme:\n",
    "1. As a full JSON file\n",
    "2. As a reduced JSON file\n",
    "3. As a pickle file"
   ]
  },
  {
   "cell_type": "markdown",
   "metadata": {},
   "source": [
    "## As a full JSON file\n",
    "This is the recommended way to save, load and share `COBRAme` ME-models in full detail. This will include all of the model's functionality and information (`MEReaction`, `ProcessData`, etc). It uses a defined JSONSCHEMA found in `cobrame.io`. \n",
    "\n",
    "Saving and loading a full ME-model (`me_model`) as a JSON can be done using:"
   ]
  },
  {
   "cell_type": "code",
   "execution_count": null,
   "metadata": {
    "collapsed": true
   },
   "outputs": [],
   "source": [
    "from cobrame.io.json import save_json_me_model, load_json_me_model\n",
    "save_json_me_model(me_model, '[save_loc]/model.json')"
   ]
  },
  {
   "cell_type": "markdown",
   "metadata": {},
   "source": [
    "Then loading can be done with"
   ]
  },
  {
   "cell_type": "code",
   "execution_count": null,
   "metadata": {
    "collapsed": true
   },
   "outputs": [],
   "source": [
    "new_me_model = load_json_me_model('[save_loc]/model.json')"
   ]
  },
  {
   "cell_type": "markdown",
   "metadata": {},
   "source": [
    "where `new_me_model` is of type `cobrame.MEModel`"
   ]
  },
  {
   "cell_type": "markdown",
   "metadata": {},
   "source": [
    "## As a reduced JSON file\n",
    "Alternatively, ME-models can be saved as a `COBRApy` model. This storage type loses all the additional information contained in a full ME-model, but retains the stoichiometry of all the reactions. In other words, it behaves like an M-model with symbolic mu terms in metabolic coefficients and reaction bounds. Therefore it will give identical solutions compared to the full model, but all additional ME-model functionality will be lost.\n",
    "\n",
    "Saving and loading a reduced Me-model (`me_model`) as a JSON can be done using:"
   ]
  },
  {
   "cell_type": "code",
   "execution_count": null,
   "metadata": {
    "collapsed": true
   },
   "outputs": [],
   "source": [
    "from cobrame.io.json import save_reduced_json_me_model, load_reduced_json_me_model\n",
    "save_reduced_json_me_model(me_model, '[save_loc]/model.json')"
   ]
  },
  {
   "cell_type": "markdown",
   "metadata": {},
   "source": [
    "Then loading can be done with"
   ]
  },
  {
   "cell_type": "code",
   "execution_count": null,
   "metadata": {
    "collapsed": true
   },
   "outputs": [],
   "source": [
    "new_me_model = load_reduced_json_me_model('[save_loc]/model.json')"
   ]
  },
  {
   "cell_type": "markdown",
   "metadata": {},
   "source": [
    "where `new_me_model` is of type  `cobra.Model`"
   ]
  },
  {
   "cell_type": "markdown",
   "metadata": {},
   "source": [
    "## As a pickle file\n",
    "This is the quickest way to save a ME-model in full detail. It can be accomplished using python's pickle dump/load methods. A ME-model named `me_model` can be saved follows."
   ]
  },
  {
   "cell_type": "code",
   "execution_count": null,
   "metadata": {
    "collapsed": true
   },
   "outputs": [],
   "source": [
    "import pickle\n",
    "with open('[save_loc]/model.pickle', 'wb') as f:\n",
    "    pickle.dump(me_model, f)"
   ]
  },
  {
   "cell_type": "markdown",
   "metadata": {},
   "source": [
    "It can then be loaded with:"
   ]
  },
  {
   "cell_type": "code",
   "execution_count": null,
   "metadata": {
    "collapsed": true
   },
   "outputs": [],
   "source": [
    "with open('[save_loc]/model.pickle', 'wb') as f:\n",
    "    new_me_model = pickle.load(f)"
   ]
  },
  {
   "cell_type": "markdown",
   "metadata": {},
   "source": [
    "This is not a recommended way to save a ME-model when sharing or for use over the long term as it can break when using different software versions. "
   ]
  }
 ],
 "metadata": {
  "kernelspec": {
   "display_name": "python3.6",
   "language": "python",
   "name": "python3.6"
  },
  "language_info": {
   "codemirror_mode": {
    "name": "ipython",
    "version": 3
   },
   "file_extension": ".py",
   "mimetype": "text/x-python",
   "name": "python",
   "nbconvert_exporter": "python",
   "pygments_lexer": "ipython3",
   "version": "3.6.3"
  },
  "nbsphinx": {
   "execute": "never"
  }
 },
 "nbformat": 4,
 "nbformat_minor": 2
}
