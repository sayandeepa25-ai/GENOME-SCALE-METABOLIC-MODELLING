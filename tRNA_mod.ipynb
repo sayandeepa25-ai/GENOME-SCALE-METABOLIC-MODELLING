{
 "cells": [
  {
   "cell_type": "markdown",
   "metadata": {},
   "source": [
    "# Formulation for tRNA charging reactions (less ill-scaled)"
   ]
  },
  {
   "cell_type": "markdown",
   "metadata": {},
   "source": [
    "The standard, two-step reaction for tRNA charging:\n",
    "1. aaRS charging: $ ATP + H_2O + AA + \\text{synthetase} \\rightarrow PPi + H^+ + \\text{AA_amp_bound_synthetase} $\n",
    "1. tRNA charging: $ \\text{generic_tRNA} + \\text{AA_amp_bound_synthetase} \\rightarrow AMP + \\text{generic_tRNA_AA} $"
   ]
  },
  {
   "cell_type": "markdown",
   "metadata": {},
   "source": [
    "Combined reaction:\n",
    "\n",
    "$ATP + H_2O + AA + \\text{synthetase} + \\text{generic_tRNA} \\rightarrow PPi + H^+ + AMP + \\text{generic_tRNA_AA}$"
   ]
  },
  {
   "cell_type": "markdown",
   "metadata": {},
   "source": [
    "Dilution relations for synthetase, and for uncharged tRNA:\n",
    "\n",
    "1. generic_tRNA dilution: $$v_{dil,tRNA} = \\frac{\\mu}{k_{eff,tRNA}} v_{tRNA charging}$$\n",
    "1. synthetase dilution: $$v_{dil,synthetase} = \\frac{\\mu}{k_{eff,synthetase}} v_{aaRS binding}$$\n"
   ]
  },
  {
   "cell_type": "markdown",
   "metadata": {},
   "source": [
    "Include dilution into the actual reactions:\n",
    "1. aaRS charging: $ ATP + H_2O + AA + \\frac{\\mu}{k_{eff,synthetase}}\\text{synthetase} \\rightarrow PPi + H^+ + \\text{AA_amp_bound_synthetase} $\n",
    "1. tRNA charging: $ \\frac{\\mu}{k_{eff,tRNA}}\\text{generic_tRNA} + \\text{AA_amp_bound_synthetase} \\rightarrow AMP + \\text{generic_tRNA_AA} $"
   ]
  },
  {
   "cell_type": "markdown",
   "metadata": {},
   "source": [
    "### Finally, the simple combined reaction:\n",
    "\n",
    "tRNA charging total: $ATP + H_2O + AA + \\frac{\\mu}{k_{eff,synthetase}}\\text{synthetase} + \\frac{\\mu}{k_{eff,tRNA}}\\text{generic_tRNA} \\rightarrow PPi + H^+ + AMP + \\text{generic_tRNA_AA}$\n",
    "\n",
    "This formulation is exactly consistent with Lerman et al. (2012) (see SI).\n",
    "\n",
    "As with Lerman et al. (2012), we assume a linear path from aaRS binding and tRNA charging. \n",
    "\n",
    "We have a reaction for each AA-specific generic tRNA and AA-specific synthetase.\n",
    "\n",
    "Thus, the two reactions have the same flux, which is consistent with the dilution of each macromolecule (tRNA and synthetase) being proportional to the combined flux."
   ]
  }
 ],
 "metadata": {
  "kernelspec": {
   "display_name": "Python 2",
   "language": "python",
   "name": "python2"
  },
  "language_info": {
   "codemirror_mode": {
    "name": "ipython",
    "version": 2
   },
   "file_extension": ".py",
   "mimetype": "text/x-python",
   "name": "python",
   "nbconvert_exporter": "python",
   "pygments_lexer": "ipython2",
   "version": "2.7.5"
  }
 },
 "nbformat": 4,
 "nbformat_minor": 0
}
