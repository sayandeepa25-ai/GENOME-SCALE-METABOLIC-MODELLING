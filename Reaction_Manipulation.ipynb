{
 "cells": [
  {
   "cell_type": "markdown",
   "metadata": {
    "deletable": true,
    "editable": true
   },
   "source": [
    "# Reaction Properties"
   ]
  },
  {
   "cell_type": "markdown",
   "metadata": {
    "deletable": true,
    "editable": true
   },
   "source": [
    "The division of the ME-model into MEReaction and ProcessData classes allows the user to essentially have access to the entire database of information used to construct the model. The following will show how this can be leveraged to easily query, edit and update aspects of the model reactions."
   ]
  },
  {
   "cell_type": "code",
   "execution_count": 1,
   "metadata": {
    "collapsed": false,
    "deletable": true,
    "editable": true
   },
   "outputs": [
    {
     "name": "stderr",
     "output_type": "stream",
     "text": [
      "/home/sbrg-cjlloyd/cobrapy/cobra/io/sbml3.py:24: UserWarning: Install lxml for faster SBML I/O\n",
      "  warn(\"Install lxml for faster SBML I/O\")\n",
      "/home/sbrg-cjlloyd/cobrapy/cobra/io/__init__.py:12: UserWarning: cobra.io.sbml requires libsbml\n",
      "  warn(\"cobra.io.sbml requires libsbml\")\n"
     ]
    }
   ],
   "source": [
    "import pickle\n",
    "from collections import defaultdict\n",
    "from os.path import abspath, dirname, join\n",
    "\n",
    "import pandas as pd\n",
    "import cobra.test\n",
    "\n",
    "import cobrame\n",
    "import ecolime"
   ]
  },
  {
   "cell_type": "code",
   "execution_count": 2,
   "metadata": {
    "collapsed": false,
    "deletable": true,
    "editable": true
   },
   "outputs": [],
   "source": [
    "# Load E. coli ME-model\n",
    "ecoli_dir = dirname(abspath(ecolime.__file__))\n",
    "model_dir = join(ecoli_dir, 'me_models/iJL1678b.pickle')\n",
    "with open(model_dir, 'rb') as f:\n",
    "    me = pickle.load(f)\n",
    "\n",
    "# Load E. coli M-model\n",
    "iJO1366 = cobra.test.create_test_model('ecoli')"
   ]
  },
  {
   "cell_type": "markdown",
   "metadata": {
    "deletable": true,
    "editable": true
   },
   "source": [
    "## Metabolic Reactions\n",
    "These are the ME-model representations of all reactions in the metabolic reconstruction, in this case iJO1366"
   ]
  },
  {
   "cell_type": "code",
   "execution_count": 3,
   "metadata": {
    "collapsed": false,
    "deletable": true,
    "editable": true
   },
   "outputs": [
    {
     "name": "stdout",
     "output_type": "stream",
     "text": [
      "number of reactions in iJO1366 (excluding exchange) = 2259\n",
      "number of stoichiometric data objects = 2282\n",
      "\n",
      "number of metabolic reactions = 5266\n",
      "number of complex data objects = 1445\n"
     ]
    }
   ],
   "source": [
    "print('number of reactions in iJO1366 (excluding exchange) = %i' %\n",
    "      len([i.id for i in iJO1366.reactions if not i.id.startswith('EX_')]))\n",
    "print('number of stoichiometric data objects = %i\\n' % \n",
    "      len([r.id for r in me.stoichiometric_data]))\n",
    "print('number of metabolic reactions = %i' % \n",
    "      len([r.id for r in me.reactions if type(r) == cobrame.MetabolicReaction]))\n",
    "print('number of complex data objects = %i' % \n",
    "      len([r.id for r in me.complex_data]))"
   ]
  },
  {
   "cell_type": "markdown",
   "metadata": {
    "deletable": true,
    "editable": true
   },
   "source": [
    "Through a MetabolicReaction, the user has direct access to the StoichiometricData, ComplexData and keff used to construct the reaction."
   ]
  },
  {
   "cell_type": "code",
   "execution_count": 4,
   "metadata": {
    "collapsed": false,
    "deletable": true,
    "editable": true,
    "scrolled": false
   },
   "outputs": [
    {
     "name": "stdout",
     "output_type": "stream",
     "text": [
      "3.20942472231275e-6*mu GAPDH-A-CPLX + e4p_c + h2o_c + nad_c --> 4per_c + 2.0 h_c + nadh_c\n",
      "\n",
      "This reactions is formed using the StoichiometricData (E4PD) and ComplexData (GAPDH-A-CPLX) with keff = 86.55\n"
     ]
    }
   ],
   "source": [
    "rxn = me.reactions.get_by_id('E4PD_FWD_GAPDH-A-CPLX')\n",
    "\n",
    "# Access the StoichiometricData and ComplexData directly through reaction\n",
    "stoich_data = rxn.stoichiometric_data\n",
    "complex_data = rxn.complex_data\n",
    "\n",
    "print(rxn.reaction + '\\n')\n",
    "print('This reactions is formed using the StoichiometricData (%s) and ComplexData (%s) with keff = %.2f' % \n",
    "      (stoich_data.id, complex_data.id, rxn.keff))"
   ]
  },
  {
   "cell_type": "markdown",
   "metadata": {
    "deletable": true,
    "editable": true
   },
   "source": [
    "As a best practice, the ComplexData and StoichiometricData themselves should not be changed. If these need changed then a new MetabolicReaction should be created. \n",
    "\n",
    "### Edit keffs\n",
    "Further, the keff is an attribute of the MetabolicReaction itself and not of the ComplexData changing the ComplexData will not affect the form of the MetabolicReaction.\n",
    "\n"
   ]
  },
  {
   "cell_type": "code",
   "execution_count": 5,
   "metadata": {
    "collapsed": false,
    "deletable": true,
    "editable": true
   },
   "outputs": [
    {
     "name": "stdout",
     "output_type": "stream",
     "text": [
      "keff = 86: \n",
      "\t3.20942472231275e-6*mu GAPDH-A-CPLX + e4p_c + h2o_c + nad_c --> 4per_c + 2.0 h_c + nadh_c\n",
      "keff = 65: \n",
      "\t4.27350427350427e-6*mu GAPDH-A-CPLX + e4p_c + h2o_c + nad_c --> 4per_c + 2.0 h_c + nadh_c\n"
     ]
    }
   ],
   "source": [
    "print('keff = %d: \\n\\t%s' % (rxn.keff, rxn.reaction))\n",
    "rxn.keff = 65.\n",
    "rxn.update()\n",
    "print('keff = %d: \\n\\t%s' % (rxn.keff, rxn.reaction))"
   ]
  },
  {
   "cell_type": "markdown",
   "metadata": {
    "deletable": true,
    "editable": true
   },
   "source": [
    "### Edit stoichiometry"
   ]
  },
  {
   "cell_type": "markdown",
   "metadata": {
    "deletable": true,
    "editable": true
   },
   "source": [
    "Aspects of the StoichiometricData, however, can be changed. This includes:\n",
    " - Reaction stoichiometry\n",
    " - Reaction upper & lower bounds\n",
    " \n",
    "Currently the stoichiometry is:"
   ]
  },
  {
   "cell_type": "code",
   "execution_count": 6,
   "metadata": {
    "collapsed": false,
    "deletable": true,
    "editable": true,
    "scrolled": false
   },
   "outputs": [
    {
     "data": {
      "text/plain": [
       "{'4per_c': 1.0,\n",
       " 'e4p_c': -1.0,\n",
       " 'h2o_c': -1.0,\n",
       " 'h_c': 2.0,\n",
       " 'nad_c': -1.0,\n",
       " 'nadh_c': 1.0}"
      ]
     },
     "execution_count": 6,
     "metadata": {},
     "output_type": "execute_result"
    }
   ],
   "source": [
    "stoich_data.stoichiometry"
   ]
  },
  {
   "cell_type": "markdown",
   "metadata": {
    "deletable": true,
    "editable": true
   },
   "source": [
    "This can be updated to, for instance, translocate a hydrogen by performing the following"
   ]
  },
  {
   "cell_type": "code",
   "execution_count": 7,
   "metadata": {
    "collapsed": false,
    "deletable": true,
    "editable": true
   },
   "outputs": [
    {
     "name": "stdout",
     "output_type": "stream",
     "text": [
      "E4PD_FWD_GAPDH-A-CPLX: \n",
      "\t4.27350427350427e-6*mu GAPDH-A-CPLX + e4p_c + h2o_c + h_c + nad_c --> 4per_c + h_p + nadh_c\n"
     ]
    }
   ],
   "source": [
    "stoich_data.stoichiometry['h_c'] = -1\n",
    "stoich_data.stoichiometry['h_p'] = 1\n",
    "rxn.update()\n",
    "print('%s: \\n\\t%s' % (rxn.id, rxn.reaction))"
   ]
  },
  {
   "cell_type": "markdown",
   "metadata": {
    "deletable": true,
    "editable": true
   },
   "source": [
    "This change can be usd to update both the forward and reverse reaction"
   ]
  },
  {
   "cell_type": "code",
   "execution_count": 8,
   "metadata": {
    "collapsed": false,
    "deletable": true,
    "editable": true
   },
   "outputs": [
    {
     "name": "stdout",
     "output_type": "stream",
     "text": [
      "E4PD_REV_GAPDH-A-CPLX: \n",
      "\t4per_c + 3.20942472231275e-6*mu GAPDH-A-CPLX + h_p + nadh_c --> e4p_c + h2o_c + h_c + nad_c\n"
     ]
    }
   ],
   "source": [
    "rxn_rev = me.reactions.get_by_id(rxn.id.replace('FWD', 'REV'))\n",
    "rxn_rev.update()\n",
    "print('%s: \\n\\t%s' % (rxn_rev.id, rxn_rev.reaction))"
   ]
  },
  {
   "cell_type": "markdown",
   "metadata": {
    "deletable": true,
    "editable": true
   },
   "source": [
    "A simpler approach is to updated the parent reactions for StoichiometricData. This will update any instances of the reaction catalyzed by an isozyme."
   ]
  },
  {
   "cell_type": "code",
   "execution_count": 9,
   "metadata": {
    "collapsed": false,
    "deletable": true,
    "editable": true
   },
   "outputs": [
    {
     "name": "stdout",
     "output_type": "stream",
     "text": [
      "E4PD_FWD_ERYTH4PDEHYDROG-CPLX: \n",
      "\t0.0135143204065698*mu ERYTH4PDEHYDROG-CPLX + e4p_c + h2o_c + 2.0 h_c + nad_c --> 4per_c + 2.0 h_p + nadh_c\n",
      "E4PD_FWD_GAPDH-A-CPLX: \n",
      "\t4.27350427350427e-6*mu GAPDH-A-CPLX + e4p_c + h2o_c + 2.0 h_c + nad_c --> 4per_c + 2.0 h_p + nadh_c\n",
      "E4PD_REV_ERYTH4PDEHYDROG-CPLX: \n",
      "\t4per_c + 3.09490345954754e-6*mu ERYTH4PDEHYDROG-CPLX + 2.0 h_p + nadh_c --> e4p_c + h2o_c + 2.0 h_c + nad_c\n",
      "E4PD_REV_GAPDH-A-CPLX: \n",
      "\t4per_c + 3.20942472231275e-6*mu GAPDH-A-CPLX + 2.0 h_p + nadh_c --> e4p_c + h2o_c + 2.0 h_c + nad_c\n"
     ]
    }
   ],
   "source": [
    "stoich_data.stoichiometry['h_c'] = -2\n",
    "stoich_data.stoichiometry['h_p'] = 2\n",
    "for r in stoich_data.parent_reactions:\n",
    "    r.update()\n",
    "    print('%s: \\n\\t%s' % (r.id, r.reaction))"
   ]
  },
  {
   "cell_type": "markdown",
   "metadata": {
    "deletable": true,
    "editable": true
   },
   "source": [
    "### Edit upper and lower reaction bounds\n",
    "The upper and lower bounds can be edited through the stoichiometric data and updated to the metabolic reaction\n",
    "\n",
    "**Important: do not change the upper and lower bounds of a MetabolicReaction directly. If this is done than the change will be overwritten when the update function is ran (shown below)**"
   ]
  },
  {
   "cell_type": "code",
   "execution_count": 10,
   "metadata": {
    "collapsed": false,
    "deletable": true,
    "editable": true
   },
   "outputs": [
    {
     "name": "stdout",
     "output_type": "stream",
     "text": [
      "Lower bound = -1000\n",
      "Lower bound = 0\n"
     ]
    }
   ],
   "source": [
    "rxn.lower_bound = -1000\n",
    "print('Lower bound = %d' %rxn.lower_bound)\n",
    "rxn.update()\n",
    "print('Lower bound = %d' %rxn.lower_bound)"
   ]
  },
  {
   "cell_type": "markdown",
   "metadata": {
    "deletable": true,
    "editable": true
   },
   "source": [
    "Editing the reaction bounds of the StoichiometricData, however, will edit the bounds of the forward and reverse reaction, as well as any instances of the reaction catalyzed by isozymes "
   ]
  },
  {
   "cell_type": "code",
   "execution_count": 11,
   "metadata": {
    "collapsed": false,
    "deletable": true,
    "editable": true
   },
   "outputs": [
    {
     "name": "stdout",
     "output_type": "stream",
     "text": [
      "Upper Bounds\n",
      "--------------------------------------\n",
      "Forward Before Update \n",
      "\tE4PD_FWD_ERYTH4PDEHYDROG-CPLX: 1000.0\n",
      "Forward After Update \n",
      "\tE4PD_FWD_ERYTH4PDEHYDROG-CPLX: 1000.0\n",
      "Forward Before Update \n",
      "\tE4PD_FWD_GAPDH-A-CPLX: 1000.0\n",
      "Forward After Update \n",
      "\tE4PD_FWD_GAPDH-A-CPLX: 1000.0\n",
      "Reverse Before Update \n",
      "\tE4PD_REV_ERYTH4PDEHYDROG-CPLX: 1000.0\n",
      "Reverse After Update \n",
      "\tE4PD_REV_ERYTH4PDEHYDROG-CPLX: 0\n",
      "Reverse Before Update \n",
      "\tE4PD_REV_GAPDH-A-CPLX: 1000.0\n",
      "Reverse After Update \n",
      "\tE4PD_REV_GAPDH-A-CPLX: 0\n"
     ]
    }
   ],
   "source": [
    "stoich_data.lower_bound = 0.\n",
    "print('Upper Bounds\\n--------------------------------------')\n",
    "for r in stoich_data.parent_reactions:\n",
    "    direction = 'Forward' if r.reverse is False else 'Reverse'\n",
    "    print('%s Before Update \\n\\t%s: %s' % (direction, r.id, r.upper_bound))\n",
    "    r.update()\n",
    "    print('%s After Update \\n\\t%s: %s' % (direction, r.id, r.upper_bound))"
   ]
  },
  {
   "cell_type": "markdown",
   "metadata": {
    "deletable": true,
    "editable": true
   },
   "source": [
    "----\n",
    "## Transcription Reactions"
   ]
  },
  {
   "cell_type": "code",
   "execution_count": 12,
   "metadata": {
    "collapsed": false,
    "deletable": true,
    "editable": true
   },
   "outputs": [
    {
     "name": "stdout",
     "output_type": "stream",
     "text": [
      "number of transcription reactions = 1447\n",
      "number of transcription data objects = 1447\n",
      "number of transcribed genes (RNA) = 1679\n"
     ]
    }
   ],
   "source": [
    "print('number of transcription reactions = %i' % \n",
    "      len([r.id for r in me.reactions if type(r) == cobrame.TranscriptionReaction]))\n",
    "print('number of transcription data objects = %i' %  len(list(me.transcription_data)))\n",
    "print('number of transcribed genes (RNA) = %i' %\n",
    "      len([m.id for m in me.metabolites if type(m) == cobrame.TranscribedGene]))"
   ]
  },
  {
   "cell_type": "markdown",
   "metadata": {
    "deletable": true,
    "editable": true
   },
   "source": [
    "### TranscribedGene (RNA) metabolite properties\n",
    "Transciption occurs via operons contained within the organisms genome or transcription unit (TU). This means that often, a transcribed region will code for multiple RNAs. The E. coli ME-model has 4 possible RNA types that can be transcribed:\n",
    " - mRNA\n",
    " - tRNA\n",
    " - rRNA\n",
    " - ncRNA (noncoding RNA)\n",
    "\n",
    "mRNAs can then translated directly from the full transcribed TU, while rRNA, tRNA and ncRNA are spliced out of the TU by endonucleases. In these cases, in order to know which bases need excized, the RNA metabolites (TranscribedGene) themselves have to store information such as:\n",
    " - **DNA strand, left and right genome position** to identify which TU the RNA is a part of\n",
    " - **RNA type** to determine whether it needs excised from the TU\n",
    " - **nucleotide sequence** to determine bases that do/do not need excised if not mRNA and the RNA mass for biomass constraint\n",
    "\n",
    "An example of a TranscribedGene's attributes is shown below"
   ]
  },
  {
   "cell_type": "code",
   "execution_count": 13,
   "metadata": {
    "collapsed": false,
    "deletable": true,
    "editable": true
   },
   "outputs": [
    {
     "data": {
      "text/html": [
       "<div>\n",
       "<style scoped>\n",
       "    .dataframe tbody tr th:only-of-type {\n",
       "        vertical-align: middle;\n",
       "    }\n",
       "\n",
       "    .dataframe tbody tr th {\n",
       "        vertical-align: top;\n",
       "    }\n",
       "\n",
       "    .dataframe thead th {\n",
       "        text-align: right;\n",
       "    }\n",
       "</style>\n",
       "<table border=\"1\" class=\"dataframe\">\n",
       "  <thead>\n",
       "    <tr style=\"text-align: right;\">\n",
       "      <th></th>\n",
       "      <th>Atribute Values</th>\n",
       "    </tr>\n",
       "  </thead>\n",
       "  <tbody>\n",
       "    <tr>\n",
       "      <th>RNA_type</th>\n",
       "      <td>mRNA</td>\n",
       "    </tr>\n",
       "    <tr>\n",
       "      <th>formula</th>\n",
       "      <td>C6890H7816N2720O5091P726</td>\n",
       "    </tr>\n",
       "    <tr>\n",
       "      <th>id</th>\n",
       "      <td>RNA_b3201</td>\n",
       "    </tr>\n",
       "    <tr>\n",
       "      <th>left_pos</th>\n",
       "      <td>3341965</td>\n",
       "    </tr>\n",
       "    <tr>\n",
       "      <th>nucleotide_sequence</th>\n",
       "      <td>ATGGCAACATTAACTGCAAAGAACCTTGCAAAAGCCTATAAAGGCC...</td>\n",
       "    </tr>\n",
       "    <tr>\n",
       "      <th>right_pos</th>\n",
       "      <td>3342691</td>\n",
       "    </tr>\n",
       "    <tr>\n",
       "      <th>strand</th>\n",
       "      <td>+</td>\n",
       "    </tr>\n",
       "  </tbody>\n",
       "</table>\n",
       "</div>"
      ],
      "text/plain": [
       "                                                       Atribute Values\n",
       "RNA_type                                                          mRNA\n",
       "formula                                       C6890H7816N2720O5091P726\n",
       "id                                                           RNA_b3201\n",
       "left_pos                                                       3341965\n",
       "nucleotide_sequence  ATGGCAACATTAACTGCAAAGAACCTTGCAAAAGCCTATAAAGGCC...\n",
       "right_pos                                                      3342691\n",
       "strand                                                               +"
      ]
     },
     "execution_count": 13,
     "metadata": {},
     "output_type": "execute_result"
    }
   ],
   "source": [
    "pd.DataFrame({i: str(v) for i, v in me.metabolites.RNA_b3201.__dict__.items() if not i.startswith('_') and v}, \n",
    "             index=['Atribute Values']).T"
   ]
  },
  {
   "cell_type": "markdown",
   "metadata": {
    "deletable": true,
    "editable": true
   },
   "source": [
    "### TranscriptionReaction/TranscriptionData properties\n",
    "Each TranscriptionReaction in a COBRAme ME-model is associated with exactly one TranscriptionData which includes everything necessary to define a reaction. This includes:\n",
    " - **subreactions** To handle enzymatic processes not performed by RNA polymerase\n",
    " - **RNA Polymerase** Different RNA polymerase metabolite for different sigma factors\n",
    " - **RNA Products** TUs often contain more than one RNA in sequence\n",
    " - **Nucleotide sequence**\n",
    "\n",
    "The TranscriptionData for TU containing the gene above is shown below"
   ]
  },
  {
   "cell_type": "code",
   "execution_count": 14,
   "metadata": {
    "collapsed": false,
    "deletable": true,
    "editable": true
   },
   "outputs": [
    {
     "data": {
      "text/html": [
       "<div>\n",
       "<style scoped>\n",
       "    .dataframe tbody tr th:only-of-type {\n",
       "        vertical-align: middle;\n",
       "    }\n",
       "\n",
       "    .dataframe tbody tr th {\n",
       "        vertical-align: top;\n",
       "    }\n",
       "\n",
       "    .dataframe thead th {\n",
       "        text-align: right;\n",
       "    }\n",
       "</style>\n",
       "<table border=\"1\" class=\"dataframe\">\n",
       "  <thead>\n",
       "    <tr style=\"text-align: right;\">\n",
       "      <th></th>\n",
       "      <th>Atribute Values</th>\n",
       "    </tr>\n",
       "  </thead>\n",
       "  <tbody>\n",
       "    <tr>\n",
       "      <th>RNA_polymerase</th>\n",
       "      <td>RNAPE-CPLX</td>\n",
       "    </tr>\n",
       "    <tr>\n",
       "      <th>RNA_products</th>\n",
       "      <td>{'RNA_b3201', 'RNA_b3202'}</td>\n",
       "    </tr>\n",
       "    <tr>\n",
       "      <th>_model</th>\n",
       "      <td>iJL1678b-ME</td>\n",
       "    </tr>\n",
       "    <tr>\n",
       "      <th>_parent_reactions</th>\n",
       "      <td>{'transcription_TU_8398_from_RPOE_MONOMER'}</td>\n",
       "    </tr>\n",
       "    <tr>\n",
       "      <th>id</th>\n",
       "      <td>TU_8398_from_RPOE_MONOMER</td>\n",
       "    </tr>\n",
       "    <tr>\n",
       "      <th>nucleotide_sequence</th>\n",
       "      <td>ACAAACTCAGCCTTAATCTTGTGCTTGCCAGCTCACTTCTGGCCGC...</td>\n",
       "    </tr>\n",
       "    <tr>\n",
       "      <th>subreactions</th>\n",
       "      <td>defaultdict(&lt;class 'int'&gt;, {'Transcription_nor...</td>\n",
       "    </tr>\n",
       "  </tbody>\n",
       "</table>\n",
       "</div>"
      ],
      "text/plain": [
       "                                                       Atribute Values\n",
       "RNA_polymerase                                              RNAPE-CPLX\n",
       "RNA_products                                {'RNA_b3201', 'RNA_b3202'}\n",
       "_model                                                     iJL1678b-ME\n",
       "_parent_reactions          {'transcription_TU_8398_from_RPOE_MONOMER'}\n",
       "id                                           TU_8398_from_RPOE_MONOMER\n",
       "nucleotide_sequence  ACAAACTCAGCCTTAATCTTGTGCTTGCCAGCTCACTTCTGGCCGC...\n",
       "subreactions         defaultdict(<class 'int'>, {'Transcription_nor..."
      ]
     },
     "execution_count": 14,
     "metadata": {},
     "output_type": "execute_result"
    }
   ],
   "source": [
    "rxn = me.reactions.transcription_TU_8398_from_RPOE_MONOMER\n",
    "data = rxn.transcription_data\n",
    "pd.DataFrame({i: str(v) for i, v in data.__dict__.items()}, index=['Atribute Values']).T"
   ]
  },
  {
   "cell_type": "markdown",
   "metadata": {
    "deletable": true,
    "editable": true
   },
   "source": [
    "This reaction currently uses a subreaction called *Transcription_normal_rho_dependent* to account for the elongation factors etc. associated with transcription. This TU also requires a rho factor to terminate transcription. These complexes can be removed from the reaction by running the following"
   ]
  },
  {
   "cell_type": "code",
   "execution_count": 15,
   "metadata": {
    "collapsed": false,
    "deletable": true,
    "editable": true
   },
   "outputs": [
    {
     "name": "stdout",
     "output_type": "stream",
     "text": [
      "with subreactions: \n",
      "4.27350427350427e-6*mu GreA_mono + 4.27350427350427e-6*mu GreB_mono + 4.27350427350427e-6*mu Mfd_mono_mod_1:mg2 + 4.27350427350427e-6*mu NusA_mono + 4.27350427350427e-6*mu NusG_mono + 0.0218585689888099*mu + 0.00855762975911906 RNAPE-CPLX + 4.27350427350427e-6*mu Rho_hexa_mod_3:mg2 + 4.27350427350427e-6*mu RpoZ_mono_mod_1:mg2 + 1020.0 atp_c + 1181 ctp_c + 1190 gtp_c + 3.0 h2o_c + 1186 utp_c --> RNA_b3201 + RNA_b3202 + 3.0 adp_c + 3.0 h_c + 691.702633 mRNA_biomass + 3.0 pi_c + 4574 ppi_c\n",
      "--------------------\n",
      "\n",
      "without subreactions: \n",
      "0.0218585689888099*mu + 0.00855762975911906 RNAPE-CPLX + 1017 atp_c + 1181 ctp_c + 1190 gtp_c + 1186 utp_c --> RNA_b3201 + RNA_b3202 + 691.702633 mRNA_biomass + 4574 ppi_c\n"
     ]
    }
   ],
   "source": [
    "print('with subreactions: \\n' + rxn.reaction)\n",
    "print('--------------------')\n",
    "data.subreactions = {}\n",
    "for r in data.parent_reactions:\n",
    "    r.update()\n",
    "print('\\nwithout subreactions: \\n' + rxn.reaction)"
   ]
  },
  {
   "cell_type": "markdown",
   "metadata": {
    "deletable": true,
    "editable": true
   },
   "source": [
    "This poses a problem where, if RNA_b3201 and RNA_b3202 are not required in equal amounts, the model will become infeasible. To accound for this, all RNAs have a demand reaction associated with them. *mRNA_biomass* is consumed for each demand reaction with a coefficient equal to the molecular weight of each RNA (in kDa). This prevents the model from overproducing RNA to increase biomass production, and therefore growth rate, in some instances. More on the implications of the *biomass* constraint can be found in **ME-Model Fundamentals**"
   ]
  },
  {
   "cell_type": "code",
   "execution_count": 16,
   "metadata": {
    "collapsed": false,
    "deletable": true,
    "editable": true
   },
   "outputs": [
    {
     "name": "stdout",
     "output_type": "stream",
     "text": [
      "DM_RNA_b3201: RNA_b3201 + 232.671391 mRNA_biomass --> \n",
      "DM_RNA_b3202: RNA_b3202 + 459.03124199999996 mRNA_biomass --> \n"
     ]
    }
   ],
   "source": [
    "for rna in data.RNA_products:\n",
    "    r = me.reactions.get_by_id('DM_' + rna)\n",
    "    print('%s: %s' % (r.id, r.reaction))"
   ]
  },
  {
   "cell_type": "markdown",
   "metadata": {
    "deletable": true,
    "editable": true
   },
   "source": [
    "As is, this reaction produces two mRNAs so no nucleotides are excised. If one or both is changed to a stable RNA (rRNA, tRNA or ncRNA) bases will be excised."
   ]
  },
  {
   "cell_type": "code",
   "execution_count": 17,
   "metadata": {
    "collapsed": false,
    "deletable": true,
    "editable": true
   },
   "outputs": [
    {
     "name": "stdout",
     "output_type": "stream",
     "text": [
      "0.0218585689888099*mu + 0.00855762975911906 RNAPE-CPLX + 1017 atp_c + 1181 ctp_c + 1190 gtp_c + 2414 h2o_c + 1186 utp_c --> RNA_b3201 + RNA_b3202 + 557 amp_c + 605 cmp_c + 613 gmp_c + 2414 h_c + 232.671391 mRNA_biomass + 4574 ppi_c + 459.03124199999996 rRNA_biomass + 639 ump_c\n"
     ]
    }
   ],
   "source": [
    "me.metabolites.RNA_b3202.RNA_type = 'rRNA'\n",
    "for r in data.parent_reactions:\n",
    "    r.update()\n",
    "    print(r.reaction)"
   ]
  },
  {
   "cell_type": "markdown",
   "metadata": {
    "deletable": true,
    "editable": true
   },
   "source": [
    "Changing RNA_b3202 to an rRNA and updating the transcription reaction causes both of the RNAs to now be excised from the TU, as indicated by the nucleotide monophosphates that appear in the products. This is not a complete picture because this process is catalyzes by an endonuclease, whose activity can be incorporated as ModificationData. Updating the reaction after adding these processes incorporates "
   ]
  },
  {
   "cell_type": "code",
   "execution_count": 18,
   "metadata": {
    "collapsed": false,
    "deletable": true,
    "editable": true
   },
   "outputs": [
    {
     "name": "stdout",
     "output_type": "stream",
     "text": [
      "0.0218585689888099*mu + 0.00855762975911906 RNAPE-CPLX + 1.70940170940171e-5*mu RNA_degradosome + 1620.5 atp_c + 1181 ctp_c + 1190 gtp_c + 3017.5 h2o_c + 1.70940170940171e-5*mu rRNA_containing_excision_machinery + 1186 utp_c --> RNA_b3201 + RNA_b3202 + 603.5 adp_c + 557 amp_c + 605 cmp_c + 613 gmp_c + 3017.5 h_c + 232.671391 mRNA_biomass + 603.5 pi_c + 4574 ppi_c + 459.03124199999996 rRNA_biomass + 639 ump_c\n"
     ]
    }
   ],
   "source": [
    "data.subreactions['rRNA_containing_excision'] = len(data.RNA_products) * 2\n",
    "data.subreactions['RNA_degradation_machine'] = len(data.RNA_products) * 2\n",
    "data.subreactions['RNA_degradation_atp_requirement'] = sum(data.excised_bases.values())\n",
    "for r in data.parent_reactions:\n",
    "    r.update()\n",
    "    print(r.reaction)"
   ]
  },
  {
   "cell_type": "markdown",
   "metadata": {
    "deletable": true,
    "editable": true
   },
   "source": [
    "---\n",
    "## Translation Reactions"
   ]
  },
  {
   "cell_type": "code",
   "execution_count": 19,
   "metadata": {
    "collapsed": false,
    "deletable": true,
    "editable": true
   },
   "outputs": [
    {
     "name": "stdout",
     "output_type": "stream",
     "text": [
      "number of translation reactions = 1569\n",
      "number of translation data objects = 1569\n",
      "number of translated genes (proteins) = 1569\n"
     ]
    }
   ],
   "source": [
    "print('number of translation reactions = %i' % \n",
    "      len([r.id for r in me.reactions if type(r) == cobrame.TranslationReaction]))\n",
    "print('number of translation data objects = %i' %  len(list(me.translation_data)))\n",
    "print('number of translated genes (proteins) = %i' %\n",
    "      len([m.id for m in me.metabolites if type(m) == cobrame.TranslatedGene]))"
   ]
  },
  {
   "cell_type": "markdown",
   "metadata": {
    "collapsed": true,
    "deletable": true,
    "editable": true
   },
   "source": [
    "### TranslatedGene (Protein) metabolite properties\n",
    "For COBRAme ME-models, proteins are translated directly from mRNA metabolites not from TUs. This means that all information required to construct a TranslationReaction can be found in its TranslationData therefore no extra information is contained in a TranslatedGene object.\n",
    "\n",
    "### TranslationReaction/TranslationData properties\n",
    "\n",
    "Each TranslationReaction in a COBRAme ME-model is associated with exactly one TranslationData which includes everything necessary to define the reaction. This includes:\n",
    " - **subreactions** To handle enzymatic processes not performed by ribosome and incorporate tRNAs\n",
    " - **mRNA** ID of mRAN being translated\n",
    " - **term_enzyme** Enzyme that catalyzes translation termination\n",
    " - **Nucleotide sequence**\n",
    "\n",
    "The TranslationData for a TranslationReaction is shown below"
   ]
  },
  {
   "cell_type": "code",
   "execution_count": 20,
   "metadata": {
    "collapsed": false
   },
   "outputs": [
    {
     "data": {
      "text/html": [
       "<div>\n",
       "<style scoped>\n",
       "    .dataframe tbody tr th:only-of-type {\n",
       "        vertical-align: middle;\n",
       "    }\n",
       "\n",
       "    .dataframe tbody tr th {\n",
       "        vertical-align: top;\n",
       "    }\n",
       "\n",
       "    .dataframe thead th {\n",
       "        text-align: right;\n",
       "    }\n",
       "</style>\n",
       "<table border=\"1\" class=\"dataframe\">\n",
       "  <thead>\n",
       "    <tr style=\"text-align: right;\">\n",
       "      <th></th>\n",
       "      <th>Atribute Values</th>\n",
       "    </tr>\n",
       "  </thead>\n",
       "  <tbody>\n",
       "    <tr>\n",
       "      <th>_model</th>\n",
       "      <td>iJL1678b-ME</td>\n",
       "    </tr>\n",
       "    <tr>\n",
       "      <th>_parent_reactions</th>\n",
       "      <td>{'translation_b2020'}</td>\n",
       "    </tr>\n",
       "    <tr>\n",
       "      <th>id</th>\n",
       "      <td>b2020</td>\n",
       "    </tr>\n",
       "    <tr>\n",
       "      <th>mRNA</th>\n",
       "      <td>RNA_b2020</td>\n",
       "    </tr>\n",
       "    <tr>\n",
       "      <th>nucleotide_sequence</th>\n",
       "      <td>ATGAGCTTTAACACAATCATTGACTGGAATAGCTGTACTGCGGAGC...</td>\n",
       "    </tr>\n",
       "    <tr>\n",
       "      <th>protein</th>\n",
       "      <td>protein_b2020</td>\n",
       "    </tr>\n",
       "    <tr>\n",
       "      <th>subreactions</th>\n",
       "      <td>defaultdict(&lt;class 'int'&gt;, {'met_addition_at_A...</td>\n",
       "    </tr>\n",
       "  </tbody>\n",
       "</table>\n",
       "</div>"
      ],
      "text/plain": [
       "                                                       Atribute Values\n",
       "_model                                                     iJL1678b-ME\n",
       "_parent_reactions                                {'translation_b2020'}\n",
       "id                                                               b2020\n",
       "mRNA                                                         RNA_b2020\n",
       "nucleotide_sequence  ATGAGCTTTAACACAATCATTGACTGGAATAGCTGTACTGCGGAGC...\n",
       "protein                                                  protein_b2020\n",
       "subreactions         defaultdict(<class 'int'>, {'met_addition_at_A..."
      ]
     },
     "execution_count": 20,
     "metadata": {},
     "output_type": "execute_result"
    }
   ],
   "source": [
    "rxn = me.reactions.translation_b2020\n",
    "data = rxn.translation_data\n",
    "pd.DataFrame({i: str(v) for i, v in data.__dict__.items()}, index=['Atribute Values']).T"
   ]
  },
  {
   "cell_type": "markdown",
   "metadata": {
    "deletable": true,
    "editable": true
   },
   "source": [
    "The rest of the information required to define a translation reaction can be dynamically computed from these attributes.\n",
    "\n",
    "For example, the amino acid sequence is calculated from the nucleotide sequence with:"
   ]
  },
  {
   "cell_type": "code",
   "execution_count": 21,
   "metadata": {
    "collapsed": false,
    "deletable": true,
    "editable": true,
    "scrolled": false
   },
   "outputs": [
    {
     "data": {
      "text/plain": [
       "\"defaultdict(<class 'int'>, {'met__L_c': 7, 'ser__L_c': 34, 'phe__L_c': 12, 'asn__L_c': 13, 'thr__L_c': 30, 'ile__L_c': 22, 'asp__L_c': 22, 'trp__L_c': 2, 'cys__L_c': 7, 'ala__L_c': 63, 'glu__L_c': 28, 'gln__L_c': 23, 'arg__L_c': 21, 'leu__L_c': 39, 'pro__L_c': 22, 'val__L_c': 36, 'lys__L_c': 17, 'gly_c': 24, 'tyr__L_c': 7, 'his__L_c': 5})\""
      ]
     },
     "execution_count": 21,
     "metadata": {},
     "output_type": "execute_result"
    }
   ],
   "source": [
    "str(data.amino_acid_count)"
   ]
  },
  {
   "cell_type": "markdown",
   "metadata": {
    "deletable": true,
    "editable": true
   },
   "source": [
    "The codon count from the sequence can be used to determine the subreaction required for charged tRNA-mediated amino acid addition."
   ]
  },
  {
   "cell_type": "code",
   "execution_count": 22,
   "metadata": {
    "collapsed": false,
    "deletable": true,
    "editable": true
   },
   "outputs": [
    {
     "data": {
      "text/plain": [
       "\"{'met_addition_at_AUG': 6, 'ser_addition_at_AGC': 12, 'phe_addition_at_UUU': 6, 'asn_addition_at_AAC': 10, 'thr_addition_at_ACA': 2, 'ile_addition_at_AUC': 9, 'ile_addition_at_AUU': 12, 'asp_addition_at_GAC': 8, 'trp_addition_at_UGG': 2, 'asn_addition_at_AAU': 3, 'cys_addition_at_UGU': 3, 'thr_addition_at_ACU': 7, 'ala_addition_at_GCG': 19, 'glu_addition_at_GAG': 12, 'gln_addition_at_CAA': 5, 'arg_addition_at_CGC': 12, 'gln_addition_at_CAG': 18, 'leu_addition_at_CUG': 23, 'leu_addition_at_UUA': 4, 'pro_addition_at_CCG': 17, 'ser_addition_at_UCC': 6, 'ala_addition_at_GCC': 25, 'ser_addition_at_UCU': 5, 'glu_addition_at_GAA': 16, 'thr_addition_at_ACC': 14, 'val_addition_at_GUU': 7, 'asp_addition_at_GAU': 14, 'leu_addition_at_CUC': 4, 'val_addition_at_GUG': 17, 'lys_addition_at_AAA': 12, 'ala_addition_at_GCA': 11, 'gly_addition_at_GGC': 12, 'arg_addition_at_CGG': 1, 'tyr_addition_at_UAC': 5, 'lys_addition_at_AAG': 5, 'thr_addition_at_ACG': 7, 'leu_addition_at_CUA': 2, 'val_addition_at_GUA': 7, 'phe_addition_at_UUC': 6, 'his_addition_at_CAC': 5, 'pro_addition_at_CCA': 2, 'arg_addition_at_CGU': 8, 'cys_addition_at_UGC': 4, 'val_addition_at_GUC': 5, 'ala_addition_at_GCU': 8, 'ser_addition_at_UCA': 6, 'gly_addition_at_GGG': 4, 'leu_addition_at_UUG': 3, 'tyr_addition_at_UAU': 2, 'pro_addition_at_CCU': 1, 'ser_addition_at_AGU': 1, 'leu_addition_at_CUU': 3, 'gly_addition_at_GGU': 8, 'pro_addition_at_CCC': 2, 'ser_addition_at_UCG': 4, 'ile_addition_at_AUA': 1}\""
      ]
     },
     "execution_count": 22,
     "metadata": {},
     "output_type": "execute_result"
    }
   ],
   "source": [
    "str(data.subreactions_from_sequence)"
   ]
  },
  {
   "cell_type": "markdown",
   "metadata": {
    "deletable": true,
    "editable": true
   },
   "source": [
    "Changing the nucleotide sequence will automically update these values."
   ]
  },
  {
   "cell_type": "code",
   "execution_count": 23,
   "metadata": {
    "collapsed": false,
    "deletable": true,
    "editable": true
   },
   "outputs": [
    {
     "name": "stdout",
     "output_type": "stream",
     "text": [
      "Elongation Subreactions\n",
      "{'ser_addition_at_AGC': 1, 'phe_addition_at_UUU': 1}\n",
      "\n",
      "One of each start subreaction\n",
      "None\n",
      "\n",
      "No termination subreaction (AAC) not valid stop codon\n",
      "None\n"
     ]
    },
    {
     "name": "stderr",
     "output_type": "stream",
     "text": [
      "/home/sbrg-cjlloyd/cobrame/cobrame/core/processdata.py:888 \u001b[1;31mUserWarning\u001b[0m: RNA_b2020 starts with 'AUG' which is not a start codon\n",
      "/home/sbrg-cjlloyd/cobrame/cobrame/core/processdata.py:925 \u001b[1;31mUserWarning\u001b[0m: No termination enzyme for RNA_b2020\n"
     ]
    }
   ],
   "source": [
    "data.nucleotide_sequence = 'ATGAGCTTTAAC'\n",
    "print('Elongation Subreactions')\n",
    "print(str(data.subreactions_from_sequence))\n",
    "print('\\nOne of each start subreaction')\n",
    "print(str(data.add_initiation_subreactions()))\n",
    "print('\\nNo termination subreaction (AAC) not valid stop codon')\n",
    "print(str(data.add_termination_subreactions()))"
   ]
  },
  {
   "cell_type": "markdown",
   "metadata": {
    "deletable": true,
    "editable": true
   },
   "source": [
    "Stop codons are defined for the organism beforehand. Changing the sequence to a valid stop codon corrects this"
   ]
  },
  {
   "cell_type": "code",
   "execution_count": 24,
   "metadata": {
    "collapsed": false,
    "deletable": true,
    "editable": true
   },
   "outputs": [
    {
     "name": "stdout",
     "output_type": "stream",
     "text": [
      "Termination subreaction\n",
      "None\n"
     ]
    },
    {
     "name": "stderr",
     "output_type": "stream",
     "text": [
      "/home/sbrg-cjlloyd/cobrame/cobrame/core/processdata.py:925 \u001b[1;31mUserWarning\u001b[0m: No termination enzyme for RNA_b2020\n"
     ]
    }
   ],
   "source": [
    "data.nucleotide_sequence = 'ATGAGCTTTTAA'\n",
    "print('Termination subreaction')\n",
    "print(str(data.add_termination_subreactions()))"
   ]
  },
  {
   "cell_type": "markdown",
   "metadata": {
    "deletable": true,
    "editable": true
   },
   "source": [
    "---\n",
    "## ComplexFormation Reactions"
   ]
  },
  {
   "cell_type": "code",
   "execution_count": 25,
   "metadata": {
    "collapsed": false,
    "deletable": true,
    "editable": true
   },
   "outputs": [
    {
     "name": "stdout",
     "output_type": "stream",
     "text": [
      "number of complex formation reactions = 1445\n",
      "number of complex data objects = 1445\n",
      "\n",
      "number of complexes = 1538\n"
     ]
    }
   ],
   "source": [
    "print('number of complex formation reactions = %i' % \n",
    "      len([r.id for r in me.reactions if type(r) == cobrame.ComplexFormation]))\n",
    "print('number of complex data objects = %i' %  len(list(me.complex_data)))\n",
    "print('')\n",
    "\n",
    "print('number of complexes = %i' %\n",
    "      len([m.id for m in me.metabolites if type(m) == cobrame.Complex]))"
   ]
  },
  {
   "cell_type": "markdown",
   "metadata": {
    "deletable": true,
    "editable": true
   },
   "source": [
    "some complexes are modified in a metabolic process (e.g. Acyl Carrier Protein sidechain reactions)\n",
    "### Complex Metabolite Properties\n",
    "Like TranslatedGenes, Complex metabolites do not need to store any additional information.\n",
    "### ComplexFormation / ComplexData Properties\n",
    "Each ComplexFormation reaction in a COBRAme ME-model is associated with exactly one ComplexData which includes everything necessary to define the reaction. This includes:\n",
    " - **modification** To define the modifications by prosthetic groups or cofactors that can be required for the complex to catalyze cellular processes\n",
    " - **stoichiometry** Stoichiometry of the protein subunits\n",
    "\n",
    "The ComplexData for a ComplexFormation reaction is shown below"
   ]
  },
  {
   "cell_type": "code",
   "execution_count": 26,
   "metadata": {
    "collapsed": false,
    "deletable": true,
    "editable": true
   },
   "outputs": [
    {
     "data": {
      "text/html": [
       "<div>\n",
       "<style scoped>\n",
       "    .dataframe tbody tr th:only-of-type {\n",
       "        vertical-align: middle;\n",
       "    }\n",
       "\n",
       "    .dataframe tbody tr th {\n",
       "        vertical-align: top;\n",
       "    }\n",
       "\n",
       "    .dataframe thead th {\n",
       "        text-align: right;\n",
       "    }\n",
       "</style>\n",
       "<table border=\"1\" class=\"dataframe\">\n",
       "  <thead>\n",
       "    <tr style=\"text-align: right;\">\n",
       "      <th></th>\n",
       "      <th>Atribute Values</th>\n",
       "    </tr>\n",
       "  </thead>\n",
       "  <tbody>\n",
       "    <tr>\n",
       "      <th>_complex_id</th>\n",
       "      <td>None</td>\n",
       "    </tr>\n",
       "    <tr>\n",
       "      <th>_model</th>\n",
       "      <td>iJL1678b-ME</td>\n",
       "    </tr>\n",
       "    <tr>\n",
       "      <th>_parent_reactions</th>\n",
       "      <td>{'AKGDH_FWD_2OXOGLUTARATEDEH-CPLX_mod_mg2_mod_...</td>\n",
       "    </tr>\n",
       "    <tr>\n",
       "      <th>id</th>\n",
       "      <td>2OXOGLUTARATEDEH-CPLX_mod_mg2_mod_lipo</td>\n",
       "    </tr>\n",
       "    <tr>\n",
       "      <th>stoichiometry</th>\n",
       "      <td>defaultdict(&lt;class 'float'&gt;, {'protein_b0726':...</td>\n",
       "    </tr>\n",
       "    <tr>\n",
       "      <th>subreactions</th>\n",
       "      <td>{'mod_mg2_c': 1.0, 'mod_lipo_c': 1.0}</td>\n",
       "    </tr>\n",
       "  </tbody>\n",
       "</table>\n",
       "</div>"
      ],
      "text/plain": [
       "                                                     Atribute Values\n",
       "_complex_id                                                     None\n",
       "_model                                                   iJL1678b-ME\n",
       "_parent_reactions  {'AKGDH_FWD_2OXOGLUTARATEDEH-CPLX_mod_mg2_mod_...\n",
       "id                            2OXOGLUTARATEDEH-CPLX_mod_mg2_mod_lipo\n",
       "stoichiometry      defaultdict(<class 'float'>, {'protein_b0726':...\n",
       "subreactions                   {'mod_mg2_c': 1.0, 'mod_lipo_c': 1.0}"
      ]
     },
     "execution_count": 26,
     "metadata": {},
     "output_type": "execute_result"
    }
   ],
   "source": [
    "rxn = me.reactions.get_by_id('formation_2OXOGLUTARATEDEH-CPLX_mod_mg2_mod_lipo')\n",
    "data = me.process_data.get_by_id(rxn.complex_data_id)\n",
    "pd.DataFrame({i: str(v) for i, v in data.__dict__.items()}, index=['Atribute Values']).T"
   ]
  },
  {
   "cell_type": "markdown",
   "metadata": {
    "deletable": true,
    "editable": true
   },
   "source": [
    "This complex has two modification mod_lipo_c and mod_mg_c. You can view the properties of these modifications by accessing their ModificationData objects."
   ]
  },
  {
   "cell_type": "code",
   "execution_count": 27,
   "metadata": {
    "collapsed": false,
    "deletable": true,
    "editable": true
   },
   "outputs": [
    {
     "name": "stdout",
     "output_type": "stream",
     "text": [
      "mod_mg2_c\n",
      "\t id mod_mg2_c\n",
      "\t stoichiometry {'mg2_c': -1}\n",
      "\t keff 65.0\n",
      "mod_lipo_c\n",
      "\t id mod_lipo_c\n",
      "\t stoichiometry {'lipoamp_c': -1, 'amp_c': 1, 'h_c': 2}\n",
      "\t enzyme EG11796-MONOMER\n",
      "\t keff 65.0\n"
     ]
    }
   ],
   "source": [
    "for mod in data.subreactions:\n",
    "    mod_data = me.process_data.get_by_id(mod)\n",
    "    print(mod_data.id)\n",
    "    for key, value in mod_data.__dict__.items():\n",
    "        if not key.startswith('_') and value:\n",
    "            print('\\t', key, value)"
   ]
  },
  {
   "cell_type": "markdown",
   "metadata": {
    "deletable": true,
    "editable": true
   },
   "source": [
    "The information in the ModificationData and ComplexData are assembled in the ComplexFormation reaction shown below "
   ]
  },
  {
   "cell_type": "code",
   "execution_count": 28,
   "metadata": {
    "collapsed": false,
    "deletable": true,
    "editable": true
   },
   "outputs": [
    {
     "name": "stdout",
     "output_type": "stream",
     "text": [
      "4.27350427350427e-6*mu EG11796-MONOMER + lipoamp_c + mg2_c + 2.0 protein_b0116 + 12.0 protein_b0726 + 24.0 protein_b0727 --> 2OXOGLUTARATEDEH-CPLX_mod_mg2_mod_lipo + amp_c + 2.0 h_c + 0.21160733999999998 prosthetic_group_biomass\n"
     ]
    }
   ],
   "source": [
    "print(rxn.reaction)"
   ]
  }
 ],
 "metadata": {
  "kernelspec": {
   "display_name": "python3.6",
   "language": "python",
   "name": "python3.6"
  },
  "language_info": {
   "codemirror_mode": {
    "name": "ipython",
    "version": 3
   },
   "file_extension": ".py",
   "mimetype": "text/x-python",
   "name": "python",
   "nbconvert_exporter": "python",
   "pygments_lexer": "ipython3",
   "version": "3.6.1"
  }
 },
 "nbformat": 4,
 "nbformat_minor": 0
}
