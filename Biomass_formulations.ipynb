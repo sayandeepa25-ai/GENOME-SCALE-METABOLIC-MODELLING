{
 "cells": [
  {
   "cell_type": "markdown",
   "metadata": {},
   "source": [
    "## Biomass Dilution formulation (unit check)"
   ]
  },
  {
   "cell_type": "markdown",
   "metadata": {},
   "source": [
    "$$\\sum{\\frac{v_i}{mass_i}} = \\mu$$\n",
    "\n",
    "$$mass = kDa [\\frac{g}{mmol}]$$\n",
    "\n",
    "$$v_i = \\frac{mmol}{g\\cdot hr}$$\n",
    "\n",
    "$$\\mu = hr^{-1}$$\n"
   ]
  },
  {
   "cell_type": "markdown",
   "metadata": {},
   "source": [
    "## unused_protein_dilution example\n",
    "\n",
    "This uses $protein$ to mean protein_biomass, dummy to mean the dummy protein\n",
    "We consider the following 3 reactions, with the production of PGI. For a given unit of pgi protein production, we know the amount of dummy (aka unmodeled) protein to make. The amount of unmodeled protein flux ($x$) is an unknown. The unknown we really need though is the amount of dummy in the unmodeled reaction ($n$) which will give us the appropriate amount of flux through $v_{dummy}$.\n",
    "\n",
    "$$v_{pgi} (1): \\dots \\rightarrow M_{pgi} \\cdot protein $$\n",
    "\n",
    "$$v_{dummy} \\left(Q\\frac{M_{pgi}}{M_{dummy}} \\right): \\dots \\rightarrow dummy + M_{dummy} \\cdot protein $$\n",
    "\n",
    "$$v_{unmodeled} (x) : protein + n \\cdot dummy  \\rightarrow \\dots $$\n",
    "\n",
    "Writing this in matrix form\n",
    "\n",
    "$$\\begin{pmatrix}\n",
    "& \\mathbf{v_{pgi}} & \\mathbf{v_{dummy}} & \\mathbf{v_{unmodeled}} \\\\\n",
    "\\mathbf{protein} & M_{pgi} & M_{dummy} & -1 \\\\\n",
    "\\mathbf{dummy} & & 1 & -n\n",
    "\\end{pmatrix}\n",
    "\\cdot\n",
    "\\begin{pmatrix} 1 \\\\ Q\\frac{M_{pgi}}{M_{dummy}} \\\\ x \\end{pmatrix}\n",
    "= \\begin{pmatrix} 0 \\\\ 0 \\end{pmatrix}\n",
    "$$\n",
    "\n",
    "Solving this system gives\n",
    "$$ n = \\frac{Q}{1 + Q}\\frac{1}{M_{dummy}} $$\n",
    "\n",
    "However, this gives us an expression in terms of $Q$, which is a fraction of used protein. We want to actually set the the paramater in terms of the fraction of total protein, to match the original ME model.\n",
    "\n",
    "$$f = \\frac{Q}{1 + Q} \\implies Q = \\frac{f}{1-f} $$\n",
    "\n",
    "Plugging this in gives\n",
    "$$ n = \\frac{\\frac{f}{1-f}}{1 + \\frac{f}{1-f}}\\frac{1}{M_{dummy}} = \\frac{f}{M_{dummy}} $$"
   ]
  },
  {
   "cell_type": "markdown",
   "metadata": {},
   "source": [
    "$$v_{pgi}: g6p + \\mu/keff \\cdot pgi \\rightarrow f6p + pgi\\_MW \\cdot protein\\_biomass$$\n",
    "\n",
    "$$v_{dummy}: RNA\\_dummy +  \\mu/keff \\cdot ribosome \\rightarrow protein\\_dummy + dummy\\_MW \\cdot protein\\_biomass$$\n",
    "\n",
    "$$v_{unmodeled\\_protein\\_dilution}: dummy\\_MW \\cdot protein\\_biomass$$"
   ]
  },
  {
   "cell_type": "code",
   "execution_count": null,
   "metadata": {
    "collapsed": true
   },
   "outputs": [],
   "source": []
  }
 ],
 "metadata": {
  "kernelspec": {
   "display_name": "Python 2",
   "language": "python",
   "name": "python2"
  },
  "language_info": {
   "codemirror_mode": {
    "name": "ipython",
    "version": 2
   },
   "file_extension": ".py",
   "mimetype": "text/x-python",
   "name": "python",
   "nbconvert_exporter": "python",
   "pygments_lexer": "ipython2",
   "version": "2.7.6"
  }
 },
 "nbformat": 4,
 "nbformat_minor": 0
}
