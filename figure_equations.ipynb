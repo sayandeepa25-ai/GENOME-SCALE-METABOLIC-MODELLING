{
 "cells": [
  {
   "cell_type": "markdown",
   "metadata": {},
   "source": [
    "How we generally formulate enzyme calatyzed reactions now"
   ]
  },
  {
   "cell_type": "markdown",
   "metadata": {},
   "source": [
    "$$\\begin{array}{r} \\text{metabolites} \\\\ \\vdots \\\\ \\text{enzymes} \\end{array} \\left[ \\begin{array}{c} \\mathbf{S} \\\\ \\vdots \\\\ -\\frac{\\mu}{k_{eff}} \\end{array}  \\right] \\cdot v = 0 $$"
   ]
  },
  {
   "cell_type": "markdown",
   "metadata": {},
   "source": [
    "Now how we handle it"
   ]
  },
  {
   "cell_type": "markdown",
   "metadata": {},
   "source": [
    "$$\\begin{array}{r} \\text{metabolites} \\\\ \\vdots \\\\ \\text{enzymes} \\end{array} \\left[ \\begin{array}{c} \\mathbf{S} \\\\ \\vdots \\\\ -\\frac{\\mu}{k_{eff}} \\end{array}  \\right] \\cdot v = 0 $$"
   ]
  },
  {
   "cell_type": "markdown",
   "metadata": {},
   "source": [
    "## Modifications - before"
   ]
  },
  {
   "cell_type": "markdown",
   "metadata": {},
   "source": [
    "carrier-mod + A --> carrier-mod-A --> carrier + B\n",
    "\n",
    "$$ \\begin{array}{r}\n",
    "\\text{carrier} \\\\\n",
    "\\text{carrier-mod-A} \\\\\n",
    "\\text{A} \\\\\n",
    "\\text{B} \\\\\n",
    "\\vdots\n",
    "\\end{array} \\left[\\begin{array}{rr}\n",
    "-1 & 1\\\\\n",
    "1 & -1 \\\\\n",
    "-1 &  \\\\\n",
    " & 1 \\\\\n",
    "\\vdots\n",
    "\\end{array}\n",
    "\\right] \\cdot v = 0$$"
   ]
  },
  {
   "cell_type": "markdown",
   "metadata": {},
   "source": [
    "$\\text{carrier} + A \\rightarrow \\text{carrier-mod-A} \\rightarrow \\text{carrier} + B$"
   ]
  },
  {
   "cell_type": "markdown",
   "metadata": {},
   "source": [
    "$ (1 + \\frac{\\mu}{keff})\\text{carrier} + A \\rightarrow \\text{carrier-mod-A} \\rightarrow \\text{carrier} + B$"
   ]
  },
  {
   "cell_type": "markdown",
   "metadata": {},
   "source": [
    "## Modifications - now"
   ]
  },
  {
   "cell_type": "markdown",
   "metadata": {},
   "source": [
    "$$ \\begin{array}{r c c}\n",
    "\\text{carrier} \\\\\n",
    "\\text{carrier-mod-A}\\\\\n",
    "\\text{A} \\\\\n",
    "\\text{B} \\\\\n",
    "\\vdots\n",
    "\\end{array} \\left[\\begin{array}{cc}\n",
    "-\\left(1 + \\frac{\\mu}{k_{eff}}\\right) & 1  \\\\\n",
    " 1 & -1 \\\\\n",
    "-1 & \\\\\n",
    " & 1 \\\\\n",
    "\\vdots \\\\\n",
    "\\end{array}\n",
    "\\right] \\cdot v = 0$$"
   ]
  },
  {
   "cell_type": "markdown",
   "metadata": {},
   "source": [
    "$ AA + \\text{generic_tRNA}_{AA} \\rightarrow \\text{protein} $\n",
    "\n",
    "$\\left(1 + \\frac{\\mu}{k_{eff,tRNA}}\\right) \\frac{\\mu}{k_{eff,charging}} \\text{synthetase} + \\frac{\\mu}{k_{eff,tRNA}}(tRNA + AA) \\rightarrow \\text{generic_tRNA}_{AA} $"
   ]
  }
 ],
 "metadata": {
  "kernelspec": {
   "display_name": "Python 2",
   "language": "python",
   "name": "python2"
  },
  "language_info": {
   "codemirror_mode": {
    "name": "ipython",
    "version": 2
   },
   "file_extension": ".py",
   "mimetype": "text/x-python",
   "name": "python",
   "nbconvert_exporter": "python",
   "pygments_lexer": "ipython2",
   "version": "2.7.6"
  }
 },
 "nbformat": 4,
 "nbformat_minor": 0
}
