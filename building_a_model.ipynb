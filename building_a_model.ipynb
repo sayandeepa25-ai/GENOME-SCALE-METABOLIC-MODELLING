{
 "cells": [
  {
   "cell_type": "markdown",
   "metadata": {},
   "source": [
    "# Building a ME-model"
   ]
  },
  {
   "cell_type": "code",
   "execution_count": 1,
   "metadata": {
    "collapsed": false
   },
   "outputs": [
    {
     "name": "stderr",
     "output_type": "stream",
     "text": [
      "/home/sbrg-cjlloyd/cobrapy/cobra/io/sbml3.py:24: UserWarning: Install lxml for faster SBML I/O\n",
      "  warn(\"Install lxml for faster SBML I/O\")\n",
      "/home/sbrg-cjlloyd/cobrapy/cobra/io/__init__.py:12: UserWarning: cobra.io.sbml requires libsbml\n",
      "  warn(\"cobra.io.sbml requires libsbml\")\n"
     ]
    }
   ],
   "source": [
    "from __future__ import print_function\n",
    "\n",
    "import cobrame\n",
    "from cobrame.util import dogma, building\n",
    "import cobrame.util.building\n",
    "import cobra\n",
    "import cobra.test\n",
    "from collections import defaultdict\n",
    "\n",
    "#import warnings\n",
    "#warnings.filterwarnings('ignore')"
   ]
  },
  {
   "cell_type": "markdown",
   "metadata": {},
   "source": [
    "## Overview\n",
    "\n",
    "COBRAme is constructed entirely over COBRApy. This means that ME-model reactions will have all of the same properties, methods, and functions as a COBRApy reaction. However, one key difference between M and ME models is that many reactions involved in gene expression are effecively templates that are constructed identically but vary based on characteristics of the gene being expressed. For example, a gene with a given nucleotide sequence is always translated following the same rules provided by the codon table for that organism.\n",
    "\n",
    "In order to facilliate the template nature of many gene expression reactions, COBRAme reactions are constructed and their components are manipulated through the use of `ProcessData` classes. These act as information vessels for holding the information assocatied with a cellular process in simple, standard datatypes such as dictionaries and strings. \n",
    "\n",
    "-----\n",
    "\n",
    "This tutorial will go step-by-step through the process of creating a generic enzyme catalyzed reaction (i.e. metabolic reaction):"
   ]
  },
  {
   "cell_type": "raw",
   "metadata": {
    "raw_mimetype": "text/restructuredtext"
   },
   "source": [
    ".. math::\n",
    "    a \\rightarrow b"
   ]
  },
  {
   "cell_type": "markdown",
   "metadata": {},
   "source": [
    "which requires the formation and coupling of **complex\\_ab** in order to proceed.\n",
    "\n",
    "-------\n",
    "\n",
    "In order for this reaction to carry flux in the model we will additionally need to first add the corresponding:\n",
    " \n",
    " 1. **Transcription reactions**\n",
    " 2. **Translation reactions**\n",
    " 3. **tRNA charging reactions**\n",
    " 4. **Complex formation reactions**\n",
    "\n",
    "Once these are added we will add in the synthesis of key macromolecular components (ribosome, RNA polymerase, etc.) and show how they are coupled to their respective reactions. The derived coupling coefficients will also be described. For more on the derivation of the coupling coefficients, reference the supplemental text of [O'brien et. al. 2013](https://www.ncbi.nlm.nih.gov/pubmed/24084808)"
   ]
  },
  {
   "cell_type": "markdown",
   "metadata": {},
   "source": [
    "## Initializing new ME-Models\n",
    "\n",
    "When applying some constraints in the ME-model, metabolite properties are required. For instance, to calculate the total biomass (by molecular weight) produced by a particular macromolecule, the amino acid, nucleotide, etc. molecular weights are required. To enable these calculations, all metabolites from *i*JO1366, along with their metabolite attributes are added to the newly initialized ME-model.\n",
    "\n",
    "Further the reactions from *i*JO1366 will be added to the ME-model to demonstrate ME-model solving procedures."
   ]
  },
  {
   "cell_type": "code",
   "execution_count": 2,
   "metadata": {
    "collapsed": true
   },
   "outputs": [],
   "source": [
    "# create empty ME-model\n",
    "me = cobrame.MEModel('test')\n",
    "ijo = cobra.test.create_test_model('ecoli')"
   ]
  },
  {
   "cell_type": "code",
   "execution_count": 3,
   "metadata": {
    "collapsed": true
   },
   "outputs": [],
   "source": [
    "# Add all metabolites and reactions from iJO1366 to the new ME-model\n",
    "for met in ijo.metabolites:\n",
    "    me.add_metabolites(met)\n",
    "for rxn in ijo.reactions:\n",
    "    me.add_reaction(rxn)"
   ]
  },
  {
   "cell_type": "markdown",
   "metadata": {},
   "source": [
    "The ME-model contains a \"global_info\" attribute which stores information used to calculate coupling constraints, along with other functions. The specifics of each of these constraints will be discussed when they are implemented.\n",
    "<br>\n",
    "<br>\n",
    "\n",
    "<div class=\"alert alert-info\">\n",
    "**Note**: k_deg will initially be set to 0. We will apply RNA degradation later in the tutorial.\n",
    "</div>"
   ]
  },
  {
   "cell_type": "code",
   "execution_count": 4,
   "metadata": {
    "collapsed": true
   },
   "outputs": [],
   "source": [
    "# \"Translational capacity\" of organism\n",
    "me.global_info['kt'] = 4.5  # (in h-1)scott 2010, RNA-to-protein curve fit\n",
    "me.global_info['r0'] = 0.087  # scott 2010, RNA-to-protein curve fit\n",
    "me.global_info['k_deg'] = 1.0/5. * 60.0  # 1/5 1/min 60 min/h # h-1\n",
    "\n",
    "# Molecular mass of RNA component of ribosome\n",
    "me.global_info['m_rr'] = 1453. # in kDa\n",
    "\n",
    "# Average molecular mass of an amino acid\n",
    "me.global_info['m_aa'] = 109. / 1000.  # in kDa\n",
    "\n",
    "# Proportion of RNA that is rRNA\n",
    "me.global_info['f_rRNA'] = .86\n",
    "me.global_info['m_nt'] = 324. / 1000.  # in kDa\n",
    "me.global_info['f_mRNA'] = .02\n",
    "\n",
    "# tRNA associated global information\n",
    "me.global_info['m_tRNA'] = 25000. / 1000.  # in kDA\n",
    "me.global_info['f_tRNA'] = .12\n",
    "\n",
    "# Define the types of biomass that will be synthesized in the model\n",
    "me.add_biomass_constraints_to_model([\"protein_biomass\", \"mRNA_biomass\", \"tRNA_biomass\", \"rRNA_biomass\",\n",
    "                                     \"ncRNA_biomass\", \"DNA_biomass\", \"lipid_biomass\", \"constituent_biomass\",\n",
    "                                     \"prosthetic_group_biomass\", \"peptidoglycan_biomass\"])"
   ]
  },
  {
   "cell_type": "markdown",
   "metadata": {},
   "source": [
    "Define sequence of gene that will be expressed in tutorial"
   ]
  },
  {
   "cell_type": "code",
   "execution_count": 5,
   "metadata": {
    "collapsed": true
   },
   "outputs": [],
   "source": [
    "sequence = (\"ATG\" + \"TTT\" * 12 + \"TAT\" * 12 + \n",
    "            \"ACG\" * 12 + \"GAT\" * 12 + \"AGT\" * 12 + \"TGA\")"
   ]
  },
  {
   "cell_type": "markdown",
   "metadata": {
    "raw_mimetype": "text/markdown"
   },
   "source": [
    "## Adding Reactions without utility functions\n",
    "We'll first demonstrate how transcription, translation, tRNA charging, complex formation, and metabolic reactions can be added to a model without using any of the utility functions provided in `cobrame.util.building.py`. The second half of the tutorial will show how these utility functions can be used to add these reactions.\n",
    "\n",
    "The basic workflow for adding any reaction to a ME-model using COBRAme occurs in three steps:\n",
    "\n",
    "1. **Create the ProcessData(s) associated with the reaction and populate them with the necessary information**\n",
    "2. **Create the MEReaction and link the appropriate ProcessData**\n",
    "3. **Execute the MEReaction's update method**\n",
    "\n",
    "### Add Transcription Reaction\n",
    "\n",
    "#### Add TranscribedGene metabolite to model\n",
    "Transcription reactions is unique in that they occur at a transcription unit level and can code for multiple transcript products. Therefore the nucleotide sequence of both the transcription unit and the RNA transcripts must be defined in order to correctly construct a transcription reaction."
   ]
  },
  {
   "cell_type": "raw",
   "metadata": {
    "raw_mimetype": "text/restructuredtext"
   },
   "source": [
    ".. autoclass:: cobrame.core.component.TranscribedGene\n",
    "   :noindex:"
   ]
  },
  {
   "cell_type": "code",
   "execution_count": 6,
   "metadata": {
    "collapsed": true
   },
   "outputs": [],
   "source": [
    "gene = cobrame.TranscribedGene('RNA_a', 'mRNA', sequence)\n",
    "me.add_metabolites([gene])"
   ]
  },
  {
   "cell_type": "markdown",
   "metadata": {},
   "source": [
    "When adding the `TranscribedGene` above, the `RNA_type` and `nucleotide_sequence` was assigned to the gene. This sequence cannot be determined from the transcription unit (TU) sequence because a single TU often contains several different RNAs."
   ]
  },
  {
   "cell_type": "markdown",
   "metadata": {},
   "source": [
    "#### Add TranscriptionData to model"
   ]
  },
  {
   "cell_type": "raw",
   "metadata": {
    "raw_mimetype": "text/restructuredtext"
   },
   "source": [
    ".. autoclass:: cobrame.core.processdata.TranscriptionData\n",
    "   :noindex:"
   ]
  },
  {
   "cell_type": "code",
   "execution_count": 7,
   "metadata": {
    "collapsed": true
   },
   "outputs": [],
   "source": [
    "transcription_data = cobrame.TranscriptionData('TU_a',me,rna_products={'RNA_a'})\n",
    "transcription_data.nucleotide_sequence = sequence"
   ]
  },
  {
   "cell_type": "markdown",
   "metadata": {},
   "source": [
    "#### Add TranscriptionReaction to model\n",
    "And point `TranscriptionReaction` to `TranscriptionData`"
   ]
  },
  {
   "cell_type": "raw",
   "metadata": {
    "raw_mimetype": "text/restructuredtext"
   },
   "source": [
    ".. autoclass:: cobrame.core.reaction.TranscriptionReaction\n",
    "   :noindex:"
   ]
  },
  {
   "cell_type": "code",
   "execution_count": 8,
   "metadata": {
    "collapsed": true
   },
   "outputs": [],
   "source": [
    "transcription_rxn = cobrame.TranscriptionReaction('transcription_TU_a')\n",
    "transcription_rxn.transcription_data = transcription_data\n",
    "me.add_reactions([transcription_rxn])"
   ]
  },
  {
   "cell_type": "markdown",
   "metadata": {},
   "source": [
    "#### Update TranscriptionReaction"
   ]
  },
  {
   "cell_type": "raw",
   "metadata": {
    "raw_mimetype": "text/restructuredtext"
   },
   "source": [
    ".. automethod:: cobrame.core.reaction.TranscriptionReaction.update\n",
    "   :noindex:"
   ]
  },
  {
   "cell_type": "code",
   "execution_count": 9,
   "metadata": {
    "collapsed": false,
    "scrolled": true
   },
   "outputs": [
    {
     "name": "stdout",
     "output_type": "stream",
     "text": [
      "86 atp_c + 38 ctp_c + 12 gtp_c + 50 utp_c --> RNA_a + 59.172286 mRNA_biomass + 186 ppi_c\n"
     ]
    },
    {
     "name": "stderr",
     "output_type": "stream",
     "text": [
      "/home/sbrg-cjlloyd/cobrame/cobrame/core/reaction.py:813 \u001b[1;31mUserWarning\u001b[0m: RNA Polymerase () not found\n"
     ]
    }
   ],
   "source": [
    "transcription_rxn.update()\n",
    "print(transcription_rxn.reaction)"
   ]
  },
  {
   "cell_type": "markdown",
   "metadata": {},
   "source": [
    "<div class=\"alert alert-info\">\n",
    "**Note**: the RNA_polymerase complex is not included in the reaction. This will be added later\n",
    "</div>"
   ]
  },
  {
   "cell_type": "markdown",
   "metadata": {},
   "source": [
    "This reaction now produces a small amount of the a `mRNA_biomass` metabolite (constraint). This term has a coefficient corresponding to the molecular weight (in $kDA$) of the RNA being transcribed. This constraint will be implemented into a $v_{biomasss\\_dilution}$ reaction with the form: \n",
    "$$\\mu \\leq v_{biomass\\_dilution} \\leq \\mu $$\n",
    "\n",
    "A mathematical description of the `biomass` constraint can be found in *Biomass Dilution Constraints* in **ME-Model Fundamentals**."
   ]
  },
  {
   "cell_type": "markdown",
   "metadata": {},
   "source": [
    "<div class=\"alert alert-info\">\n",
    "**Note**: This is not a complete picture of transcription because the RNA polymerase is missing.\n",
    "</div>\n",
    "\n",
    "#### Incorporate RNA Polymerase\n",
    "For the purposes of this tutorial, we'll skip the steps required to add the reactions to form the RNA_polymerase. The steps however are identical to those outlined in **add enzyme complexes** below"
   ]
  },
  {
   "cell_type": "raw",
   "metadata": {
    "raw_mimetype": "text/restructuredtext"
   },
   "source": [
    ".. autoclass:: cobrame.core.component.RNAP\n",
    "   :noindex:"
   ]
  },
  {
   "cell_type": "code",
   "execution_count": 10,
   "metadata": {
    "collapsed": true
   },
   "outputs": [],
   "source": [
    "RNAP = cobrame.RNAP('RNA_polymerase')\n",
    "me.add_metabolites(RNAP)"
   ]
  },
  {
   "cell_type": "markdown",
   "metadata": {},
   "source": [
    "Associate RNA_polymerase with all `TranscriptionData` and update"
   ]
  },
  {
   "cell_type": "code",
   "execution_count": 11,
   "metadata": {
    "collapsed": false
   },
   "outputs": [
    {
     "name": "stdout",
     "output_type": "stream",
     "text": [
      "0.00088887053605567*mu + 0.000347992814865795 RNA_polymerase + 86 atp_c + 38 ctp_c + 12 gtp_c + 50 utp_c --> RNA_a + 59.172286 mRNA_biomass + 186 ppi_c\n"
     ]
    }
   ],
   "source": [
    "for data in me.transcription_data:\n",
    "    data.RNA_polymerase = RNAP.id\n",
    "me.reactions.transcription_TU_a.update()\n",
    "\n",
    "print(me.reactions.transcription_TU_a.reaction)"
   ]
  },
  {
   "cell_type": "markdown",
   "metadata": {},
   "source": [
    "The coefficient for RNA_polymerase is the first instance in this tutorial where a coupling constraint is imposed. In this case the constraint couples the formation of a RNA_polymerase metabolite to its transcription flux. This constraint is formulated as in [O'brien et. al. 2013](https://www.ncbi.nlm.nih.gov/pubmed/24084808), with assumption that $k_{rnap} = 3 \\cdot k_{ribosome}$ based on data from [Proshkin et al. 2010](https://www.ncbi.nlm.nih.gov/pubmed/20413502):\n",
    "\n",
    "$$\n",
    "\\begin{align}\n",
    "v_{dilution,RNAP, j} =  \\frac{l_{TU,j}}{3 c_{ribo}\\kappa_{\\tau}} v_{transcription,j} (\\mu+r_0\\kappa_{\\tau}), & \\forall j \\in TU\n",
    "\\end{align}\n",
    "$$\n",
    "\n",
    "where:\n",
    "\n",
    " - $\\kappa_{\\tau}$ and $r_0$ are phenomenological parameters from [Scott et. al. 2010](https://www.ncbi.nlm.nih.gov/pubmed/21097934) that describe the linear relationship between the observed RNA/protein ratio of *E. coli* and its growth rate ($\\mu$)\n",
    "\n",
    " - $c_{ribo} = \\frac{m_{rr}}{f_{rRNA}\\cdot m_{aa}}$ where: $m_{rr}$ is the mass of rRNA per ribosome. $f_{rRNA}$ is the fraction of total RNA that is rRNA $m_{aa}$ is the molecular weight of an average amino acid\n",
    "\n",
    " - $v_{transcription, j}$ is the rate of transcription for $TU_j$\n",
    " \n",
    " - $l_{TU, j}$ is number of nucleotides in $TU_j$\n",
    " \n",
    "----\n",
    "### Add Translation Reaction\n",
    "#### Add TranslationData to model\n",
    "In order to add a TranslationData object to a ME-model the user must additionally specifify the mRNA id and protein id of the translation reaction that will be added. This information as well as a nucleotide sequence is the only information required to add a translation reaction."
   ]
  },
  {
   "cell_type": "raw",
   "metadata": {
    "raw_mimetype": "text/restructuredtext"
   },
   "source": [
    ".. autoclass:: cobrame.core.processdata.TranslationData\n",
    "   :noindex:"
   ]
  },
  {
   "cell_type": "code",
   "execution_count": 12,
   "metadata": {
    "collapsed": true
   },
   "outputs": [],
   "source": [
    "data = cobrame.TranslationData('a', me, 'RNA_a', 'protein_a')\n",
    "data.nucleotide_sequence = sequence"
   ]
  },
  {
   "cell_type": "markdown",
   "metadata": {},
   "source": [
    "#### Add TranslationReaction to model\n",
    "By associating the TranslationReaction with its corresponding TranslationData object and running the update function, COBRAme will create a reaction reaction for the nucleotide sequence given based on the organisms codon table and prespecified translation machinery."
   ]
  },
  {
   "cell_type": "raw",
   "metadata": {
    "raw_mimetype": "text/restructuredtext"
   },
   "source": [
    ".. autoclass:: cobrame.core.reaction.TranslationReaction\n",
    "   :noindex:"
   ]
  },
  {
   "cell_type": "code",
   "execution_count": 13,
   "metadata": {
    "collapsed": true
   },
   "outputs": [],
   "source": [
    "rxn = cobrame.TranslationReaction('translation_a')\n",
    "rxn.translation_data = data\n",
    "me.add_reaction(rxn)"
   ]
  },
  {
   "cell_type": "markdown",
   "metadata": {},
   "source": [
    "#### Update TranslationReaction"
   ]
  },
  {
   "cell_type": "raw",
   "metadata": {
    "raw_mimetype": "text/restructuredtext"
   },
   "source": [
    ".. automethod:: cobrame.core.reaction.TranslationReaction.update\n",
    "   :noindex:"
   ]
  },
  {
   "cell_type": "code",
   "execution_count": 14,
   "metadata": {
    "collapsed": false
   },
   "outputs": [
    {
     "name": "stderr",
     "output_type": "stream",
     "text": [
      "/home/sbrg-cjlloyd/cobrame/cobrame/core/reaction.py:1051 \u001b[1;31mUserWarning\u001b[0m: ribosome not found\n",
      "/home/sbrg-cjlloyd/cobrame/cobrame/core/reaction.py:1094 \u001b[1;31mUserWarning\u001b[0m: RNA_degradosome not found\n"
     ]
    },
    {
     "name": "stdout",
     "output_type": "stream",
     "text": [
      "0.000498399634202103*mu + 0.000195123456790123 + 0.00598079561042524*(mu + 0.3915)/mu RNA_a + 12 asp__L_c + 0.276611796982167*(mu + 0.3915)/mu atp_c + 0.353897348367627*(mu + 0.3915)/mu mRNA_biomass + met__L_c + 12 phe__L_c + 12 ser__L_c + 12 thr__L_c + 12 tyr__L_c --> 0.276611796982167*(mu + 0.3915)/mu adp_c + 0.514348422496571*(mu + 0.3915)/mu amp_c + 0.227270233196159*(mu + 0.3915)/mu cmp_c + 0.0717695473251029*(mu + 0.3915)/mu gmp_c + 60.0 - 0.276611796982167*(mu + 0.3915)/mu h2o_c + 0.276611796982167*(mu + 0.3915)/mu h_c + 0.276611796982167*(mu + 0.3915)/mu pi_c + protein_a + 7.500606 protein_biomass + 0.299039780521262*(mu + 0.3915)/mu ump_c\n"
     ]
    }
   ],
   "source": [
    "rxn.update()\n",
    "print(rxn.reaction)"
   ]
  },
  {
   "cell_type": "markdown",
   "metadata": {},
   "source": [
    "In this case the constraint couples the formation of a mRNA metabolite to its translation flux. This constraint is formulated as in [O'brien et. al. 2013](https://www.ncbi.nlm.nih.gov/pubmed/24084808):\n",
    "\n",
    "$$\n",
    "\\begin{align}\n",
    "v_{dilution,j} = \\frac{3}{\\kappa_{\\tau} c_{mRNA}} \\cdot (\\mu + \\kappa_{\\tau} r_0) v_{translation,j}  , & &  \\forall j \\in mRNA\n",
    "\\end{align}\n",
    "$$\n",
    "\n",
    "where:\n",
    "\n",
    " - $\\kappa_{\\tau}$ and $r_0$ are phenomenological parameters from [Scott et. al. 2010](https://www.ncbi.nlm.nih.gov/pubmed/21097934) that describe the linear relationship between the observed RNA/protein ratio of *E. coli* and its growth rate ($\\mu$)\n",
    "\n",
    " - $c_{mRNA} = \\frac{m_{nt}}{f_{mRNA}\\cdot m_{aa}}$ where: $m_{nt}$ is the molecular weight of an average mRNA nucleotide. $f_{mRNA}$ is the fraction of total RNA that is mRNA $m_{aa}$ is the molecular weight of an average amino acid\n",
    "\n",
    " - $v_{translation, j}$ is the rate of translation for $mRNA_j$"
   ]
  },
  {
   "cell_type": "markdown",
   "metadata": {},
   "source": [
    "#### Incorporate Ribosome"
   ]
  },
  {
   "cell_type": "raw",
   "metadata": {
    "raw_mimetype": "text/restructuredtext"
   },
   "source": [
    ".. autoclass:: cobrame.core.component.Ribosome\n",
    "   :noindex:"
   ]
  },
  {
   "cell_type": "code",
   "execution_count": 15,
   "metadata": {
    "collapsed": false,
    "scrolled": true
   },
   "outputs": [
    {
     "name": "stdout",
     "output_type": "stream",
     "text": [
      "0.000498399634202103*mu + 0.000195123456790123 + 0.00598079561042524*(mu + 0.3915)/mu RNA_a + 12 asp__L_c + 0.276611796982167*(mu + 0.3915)/mu atp_c + 0.353897348367627*(mu + 0.3915)/mu mRNA_biomass + met__L_c + 12 phe__L_c + 0.000874533914506385*mu + 0.00034238002752925 ribosome + 12 ser__L_c + 12 thr__L_c + 12 tyr__L_c --> 0.276611796982167*(mu + 0.3915)/mu adp_c + 0.514348422496571*(mu + 0.3915)/mu amp_c + 0.227270233196159*(mu + 0.3915)/mu cmp_c + 0.0717695473251029*(mu + 0.3915)/mu gmp_c + 60.0 - 0.276611796982167*(mu + 0.3915)/mu h2o_c + 0.276611796982167*(mu + 0.3915)/mu h_c + 0.276611796982167*(mu + 0.3915)/mu pi_c + protein_a + 7.500606 protein_biomass + 0.299039780521262*(mu + 0.3915)/mu ump_c\n"
     ]
    },
    {
     "name": "stderr",
     "output_type": "stream",
     "text": [
      "/home/sbrg-cjlloyd/cobrame/cobrame/core/reaction.py:1094 \u001b[1;31mUserWarning\u001b[0m: RNA_degradosome not found\n"
     ]
    }
   ],
   "source": [
    "ribosome = cobrame.Ribosome('ribosome')\n",
    "me.add_metabolites([ribosome])\n",
    "me.reactions.translation_a.update()\n",
    "print(me.reactions.translation_a.reaction)"
   ]
  },
  {
   "cell_type": "markdown",
   "metadata": {},
   "source": [
    "This imposes a new coupling constraint for the ribosome. In this case the constraint couples the formation of a ribosome to its translation flux. This constraint is formulated as in [O'brien et. al. 2013](https://www.ncbi.nlm.nih.gov/pubmed/24084808):\n",
    "\n",
    "$$\n",
    "\\begin{align}\n",
    "v_{dilution,ribo, j} = \\frac{l_{p,j}}{c_{ribo}\\kappa_{\\tau}} v_{translation,j} (\\mu+r_0\\kappa_{\\tau}) , & \\forall j \\in mRNA\n",
    "\\end{align}\n",
    "$$\n",
    "\n",
    "where:\n",
    "\n",
    " - $\\kappa_{\\tau}$ and $r_0$ are phenomenological parameters from [Scott et. al. 2010](https://www.ncbi.nlm.nih.gov/pubmed/21097934) that describe the linear relationship between the observed RNA/protein ratio of *E. coli* and its growth rate ($\\mu$)\n",
    "\n",
    " - $c_{ribo} = \\frac{m_{rr}}{f_{rRNA}\\cdot m_{aa}}$ where: $m_{nt}$ is the mass of rRNA per ribosome. $f_{rRNA}$ is the fraction of total RNA that is rRNA $m_{aa}$ is the molecular weight of an average amino acid\n",
    "\n",
    " - $v_{translation, j}$ is the rate of translation for $mRNA_j$\n",
    " \n",
    " - $l_{p, j}$ is number of amino acids in peptide translated from $mRNA_j$\n",
    " \n",
    "-------\n",
    "<div class=\"alert alert-info\">\n",
    "**Note**: The above reactions do not provide a complete picture of translation in that it is missing charged tRNAs to facillitate tRNA addition.\n",
    "</div>\n",
    "\n",
    "Below, we'll correct this by adding in an tRNA charging reaction."
   ]
  },
  {
   "cell_type": "markdown",
   "metadata": {},
   "source": [
    "### Add tRNA Charging Reaction\n",
    "\n",
    "#### Add tRNAData to model"
   ]
  },
  {
   "cell_type": "code",
   "execution_count": 16,
   "metadata": {
    "collapsed": true
   },
   "outputs": [],
   "source": [
    "# Must add tRNA metabolite first\n",
    "gene = cobrame.TranscribedGene('RNA_d', 'tRNA', sequence)\n",
    "me.add_metabolites([gene])"
   ]
  },
  {
   "cell_type": "raw",
   "metadata": {
    "raw_mimetype": "text/restructuredtext"
   },
   "source": [
    ".. autoclass:: cobrame.core.processdata.tRNAData\n",
    "   :noindex:"
   ]
  },
  {
   "cell_type": "code",
   "execution_count": 17,
   "metadata": {
    "collapsed": true
   },
   "outputs": [],
   "source": [
    "data = cobrame.tRNAData('tRNA_d_GUA', me, 'val__L_c', 'RNA_d', 'GUA')"
   ]
  },
  {
   "cell_type": "markdown",
   "metadata": {},
   "source": [
    "#### Add tRNAChargingReaction to model\n",
    "And point `tRNAChargingReaction` to `tRNAData`"
   ]
  },
  {
   "cell_type": "raw",
   "metadata": {
    "raw_mimetype": "text/restructuredtext"
   },
   "source": [
    ".. autoclass:: cobrame.core.reaction.tRNAChargingReaction\n",
    "   :noindex:"
   ]
  },
  {
   "cell_type": "code",
   "execution_count": 18,
   "metadata": {
    "collapsed": true
   },
   "outputs": [],
   "source": [
    "rxn = cobrame.tRNAChargingReaction('charging_tRNA_d_GUA')\n",
    "me.add_reaction(rxn)\n",
    "rxn.tRNA_data = data"
   ]
  },
  {
   "cell_type": "markdown",
   "metadata": {},
   "source": [
    "#### Update tRNAChargingReaction"
   ]
  },
  {
   "cell_type": "raw",
   "metadata": {
    "raw_mimetype": "text/restructuredtext"
   },
   "source": [
    ".. automethod:: cobrame.core.reaction.tRNAChargingReaction.update\n",
    "   :noindex:"
   ]
  },
  {
   "cell_type": "code",
   "execution_count": 19,
   "metadata": {
    "collapsed": false
   },
   "outputs": [
    {
     "name": "stdout",
     "output_type": "stream",
     "text": [
      "0.000116266666666667*mu + 4.55184e-5 RNA_d + 0.000116266666666667*mu + 4.55184e-5 val__L_c --> generic_tRNA_GUA_val__L_c\n"
     ]
    }
   ],
   "source": [
    "#Setting verbose=False suppresses print statements indicating that new metabolites were created\n",
    "rxn.update(verbose=False)\n",
    "print(rxn.reaction)"
   ]
  },
  {
   "cell_type": "markdown",
   "metadata": {},
   "source": [
    "This reaction creates one ```generic_charged_tRNA``` equivalement that can then be used in a translation reaction\n",
    "\n",
    "The coefficient for ```RNA_d``` and ```lys__L_c``` are defined by:\n",
    "\n",
    "$$\n",
    "\\begin{align}\n",
    "v_{dilution,j} \\geq \\frac{1}{\\kappa_{\\tau} c_{tRNA,j}} (\\mu + \\kappa_{\\tau} r_0)  v_{charging,j} , & \\forall j \\in tRNA\n",
    "\\end{align}\n",
    "$$\n",
    "\n",
    "where:\n",
    "\n",
    " - $\\kappa_{\\tau}$ and $r_0$ are phenomenological parameters from [Scott et. al. 2010](https://www.ncbi.nlm.nih.gov/pubmed/21097934) that describe the linear relationship between the observed RNA/protein ratio of *E. coli* and its growth rate ($\\mu$)\n",
    "\n",
    " - $c_{tRNA, j} = \\frac{m_{tRNA}}{f_{tRNA}\\cdot m_{aa}}$ where: $m_{tRNA}$ is molecular weight of an average tRNA. $f_{tRNA}$ is the fraction of total RNA that is tRNA $m_{aa}$ is the molecular weight of an average amino acid\n",
    "\n",
    " - $v_{charging, j}$ is the rate of charging for $tRNA_j$\n",
    " \n",
    "<div class=\"alert alert-info\">\n",
    "**Note**: This tRNA charging reaction is still missing a tRNA synthetase which catalyzes the amino acid addition to the uncharged tRNA.\n",
    "</div>\n",
    "\n",
    "#### Incorporate tRNA Synthetases"
   ]
  },
  {
   "cell_type": "raw",
   "metadata": {},
   "source": [
    ".. autoclass:: cobrame.core.component.Complex\n",
    "   :noindex:"
   ]
  },
  {
   "cell_type": "code",
   "execution_count": 20,
   "metadata": {
    "collapsed": true
   },
   "outputs": [],
   "source": [
    "synthetase = cobrame.Complex('synthetase')\n",
    "me.add_metabolites(synthetase)"
   ]
  },
  {
   "cell_type": "markdown",
   "metadata": {},
   "source": [
    "Associate synthetase with `tRNAData` and update"
   ]
  },
  {
   "cell_type": "code",
   "execution_count": 21,
   "metadata": {
    "collapsed": false
   },
   "outputs": [
    {
     "name": "stdout",
     "output_type": "stream",
     "text": [
      "0.000116266666666667*mu + 4.55184e-5 RNA_d + 4.27350427350427e-6*mu*(0.000116266666666667*mu + 1.0000455184) synthetase + 0.000116266666666667*mu + 4.55184e-5 val__L_c --> generic_tRNA_GUA_val__L_c\n"
     ]
    }
   ],
   "source": [
    "data.synthetase = synthetase.id\n",
    "rxn.update()\n",
    "print(rxn.reaction)"
   ]
  },
  {
   "cell_type": "markdown",
   "metadata": {},
   "source": [
    "The synthetase coupling was reformulated from [O'brien et. al. 2013](https://www.ncbi.nlm.nih.gov/pubmed/24084808) enable more modularity in the ME-model. A more complete mathematical description of the tRNA synthetase coupling constraints can be found in the [tRNA.ipynb](tRNA.ipynb)\n",
    "\n",
    "---\n",
    "\n",
    "### Add tRNAs to Translation\n",
    "\n",
    "Here we take advantage of an additional subclass of `ProcessData`, called a `SubreactionData` object. This class is used to lump together processeses that occur as a result of many individual reactions, including translation elongation, ribosome formation, tRNA modification, etc. Since each of these steps often involve an enzyme that requires its own coupling constraint, this process allows these processes to be lumped into one reaction while still enabling each subprocess to be modified.\n",
    "\n",
    "`TranslationData` objects have an `subreaction_from_sequence` method that returns any subreactions that have been added to the model and are part of translation elongation (i.e. tRNA). Since no tRNA-mediated amino acid addition subreactions have been added to the model, the below call returns nothing."
   ]
  },
  {
   "cell_type": "code",
   "execution_count": 22,
   "metadata": {
    "collapsed": false
   },
   "outputs": [
    {
     "name": "stdout",
     "output_type": "stream",
     "text": [
      "{}\n"
     ]
    },
    {
     "name": "stderr",
     "output_type": "stream",
     "text": [
      "/home/sbrg-cjlloyd/cobrame/cobrame/core/processdata.py:826 \u001b[1;31mUserWarning\u001b[0m: tRNA addition subreaction phe_addition_at_UUU not in model\n",
      "/home/sbrg-cjlloyd/cobrame/cobrame/core/processdata.py:826 \u001b[1;31mUserWarning\u001b[0m: tRNA addition subreaction tyr_addition_at_UAU not in model\n",
      "/home/sbrg-cjlloyd/cobrame/cobrame/core/processdata.py:826 \u001b[1;31mUserWarning\u001b[0m: tRNA addition subreaction thr_addition_at_ACG not in model\n",
      "/home/sbrg-cjlloyd/cobrame/cobrame/core/processdata.py:826 \u001b[1;31mUserWarning\u001b[0m: tRNA addition subreaction asp_addition_at_GAU not in model\n",
      "/home/sbrg-cjlloyd/cobrame/cobrame/core/processdata.py:826 \u001b[1;31mUserWarning\u001b[0m: tRNA addition subreaction ser_addition_at_AGU not in model\n"
     ]
    }
   ],
   "source": [
    "print(me.process_data.a.subreactions_from_sequence)"
   ]
  },
  {
   "cell_type": "markdown",
   "metadata": {},
   "source": [
    "`UserWarnings` are returned to indicate that tRNA subreactions have not been added for each codon.\n",
    "\n",
    "Below, we add the SubreactionData (excluding enzymes) for the addition of an amino acid using information from the *E. coli* codon table. The charge tRNA does not act as an enzyme in this case because it's coupling is handled in the `tRNAChargingReaction`"
   ]
  },
  {
   "cell_type": "markdown",
   "metadata": {},
   "source": [
    "#### Add Subreactions for tRNA addition to model"
   ]
  },
  {
   "cell_type": "raw",
   "metadata": {
    "raw_mimetype": "text/restructuredtext"
   },
   "source": [
    ".. autoclass:: cobrame.core.processdata.SubreactionData\n",
    "   :noindex:"
   ]
  },
  {
   "cell_type": "code",
   "execution_count": 23,
   "metadata": {
    "collapsed": true
   },
   "outputs": [],
   "source": [
    "data = cobrame.SubreactionData('asp_addition_at_GAU', me)\n",
    "data.stoichiometry = {'generic_tRNA_GAU_asp__L_c': -1,\n",
    "                      'gtp_c': -1, 'gdp_c': 1, 'h_c': 1,\n",
    "                      'pi_c': 1}"
   ]
  },
  {
   "cell_type": "markdown",
   "metadata": {},
   "source": [
    "Now calling `subreactions_from_sequence` returns the number of tRNA subreactions that should be added to the `TranslationData`"
   ]
  },
  {
   "cell_type": "code",
   "execution_count": 24,
   "metadata": {
    "collapsed": false
   },
   "outputs": [
    {
     "name": "stdout",
     "output_type": "stream",
     "text": [
      "{'asp_addition_at_GAU': 12}\n"
     ]
    },
    {
     "name": "stderr",
     "output_type": "stream",
     "text": [
      "/home/sbrg-cjlloyd/cobrame/cobrame/core/processdata.py:826 \u001b[1;31mUserWarning\u001b[0m: tRNA addition subreaction phe_addition_at_UUU not in model\n",
      "/home/sbrg-cjlloyd/cobrame/cobrame/core/processdata.py:826 \u001b[1;31mUserWarning\u001b[0m: tRNA addition subreaction tyr_addition_at_UAU not in model\n",
      "/home/sbrg-cjlloyd/cobrame/cobrame/core/processdata.py:826 \u001b[1;31mUserWarning\u001b[0m: tRNA addition subreaction thr_addition_at_ACG not in model\n",
      "/home/sbrg-cjlloyd/cobrame/cobrame/core/processdata.py:826 \u001b[1;31mUserWarning\u001b[0m: tRNA addition subreaction ser_addition_at_AGU not in model\n"
     ]
    }
   ],
   "source": [
    "translation_subreactions = me.process_data.a.subreactions_from_sequence\n",
    "print(translation_subreactions)"
   ]
  },
  {
   "cell_type": "markdown",
   "metadata": {},
   "source": [
    "Updating `TranslationData.subreactions` with the tRNA subreactions incorporates this information into the `TranslationReaction`"
   ]
  },
  {
   "cell_type": "code",
   "execution_count": 25,
   "metadata": {
    "collapsed": false
   },
   "outputs": [
    {
     "name": "stdout",
     "output_type": "stream",
     "text": [
      "Before adding tRNA subreaction\n",
      "------------------------------\n",
      "0.000498399634202103*mu + 0.000195123456790123 + 0.00598079561042524*(mu + 0.3915)/mu RNA_a + 12 asp__L_c + 0.276611796982167*(mu + 0.3915)/mu atp_c + 0.353897348367627*(mu + 0.3915)/mu mRNA_biomass + met__L_c + 12 phe__L_c + 0.000874533914506385*mu + 0.00034238002752925 ribosome + 12 ser__L_c + 12 thr__L_c + 12 tyr__L_c --> 0.276611796982167*(mu + 0.3915)/mu adp_c + 0.514348422496571*(mu + 0.3915)/mu amp_c + 0.227270233196159*(mu + 0.3915)/mu cmp_c + 0.0717695473251029*(mu + 0.3915)/mu gmp_c + 60.0 - 0.276611796982167*(mu + 0.3915)/mu h2o_c + 0.276611796982167*(mu + 0.3915)/mu h_c + 0.276611796982167*(mu + 0.3915)/mu pi_c + protein_a + 7.500606 protein_biomass + 0.299039780521262*(mu + 0.3915)/mu ump_c\n",
      "\n",
      "After adding tRNA subreaction\n",
      "-----------------------------\n",
      "0.000498399634202103*mu + 0.000195123456790123 + 0.00598079561042524*(mu + 0.3915)/mu RNA_a + 12 asp__L_c + 0.276611796982167*(mu + 0.3915)/mu atp_c + 12.0 generic_tRNA_GAU_asp__L_c + 12.0 gtp_c + 0.353897348367627*(mu + 0.3915)/mu mRNA_biomass + met__L_c + 12 phe__L_c + 0.000874533914506385*mu + 0.00034238002752925 ribosome + 12 ser__L_c + 12 thr__L_c + 12 tyr__L_c --> 0.276611796982167*(mu + 0.3915)/mu adp_c + 0.514348422496571*(mu + 0.3915)/mu amp_c + 0.227270233196159*(mu + 0.3915)/mu cmp_c + 12.0 gdp_c + 0.0717695473251029*(mu + 0.3915)/mu gmp_c + 60.0 - 0.276611796982167*(mu + 0.3915)/mu h2o_c + 12.0 + 0.276611796982167*(mu + 0.3915)/mu h_c + 12.0 + 0.276611796982167*(mu + 0.3915)/mu pi_c + protein_a + 7.500606 protein_biomass + 0.299039780521262*(mu + 0.3915)/mu ump_c\n"
     ]
    },
    {
     "name": "stderr",
     "output_type": "stream",
     "text": [
      "/home/sbrg-cjlloyd/cobrame/cobrame/core/reaction.py:1094 \u001b[1;31mUserWarning\u001b[0m: RNA_degradosome not found\n",
      "/home/sbrg-cjlloyd/cobrame/cobrame/core/processdata.py:229 \u001b[1;31mUserWarning\u001b[0m: No element contribution input for subreaction (asp_addition_at_GAU), calculating based on stoichiometry instead\n"
     ]
    }
   ],
   "source": [
    "print(\"Before adding tRNA subreaction\")\n",
    "print(\"------------------------------\")\n",
    "print(me.reactions.translation_a.reaction)\n",
    "print(\"\")\n",
    "# Link tranlation_data to subreactions and update\n",
    "for subreaction, value in translation_subreactions.items():\n",
    "    me.process_data.a.subreactions[subreaction] = value\n",
    "me.reactions.translation_a.update(verbose=False)\n",
    "print(\"After adding tRNA subreaction\")\n",
    "print(\"-----------------------------\")\n",
    "print(me.reactions.translation_a.reaction)"
   ]
  },
  {
   "cell_type": "markdown",
   "metadata": {},
   "source": [
    "### Add Complex Formation Reaction\n",
    "#### Add ComplexData to model\n",
    "For COBRAme models, the reaction gene-protein-reaction rule (GPR) is replaced with a metabolite representing the synthesis of the enzyme(s) catalyzing a reaction. This metabolite is formed explicitly in a ME model by seperate reaction to transcribe the gene(s) and translate the protein(s) the compose the complex. "
   ]
  },
  {
   "cell_type": "raw",
   "metadata": {
    "raw_mimetype": "text/restructuredtext"
   },
   "source": [
    ".. autoclass:: cobrame.core.processdata.ComplexData\n",
    "   :noindex:"
   ]
  },
  {
   "cell_type": "code",
   "execution_count": 26,
   "metadata": {
    "collapsed": true
   },
   "outputs": [],
   "source": [
    "data = cobrame.ComplexData('complex_ab', me)\n",
    "data.stoichiometry = {'protein_a': 1, 'protein_b': 1}"
   ]
  },
  {
   "cell_type": "markdown",
   "metadata": {},
   "source": [
    "#### Add  ComplexFormation reaction to model\n",
    "And point `ComplexFormation` to `ComplexData`"
   ]
  },
  {
   "cell_type": "raw",
   "metadata": {},
   "source": [
    ".. autoclass:: cobrame.core.reaction.ComplexFormation\n",
    "   :noindex:"
   ]
  },
  {
   "cell_type": "code",
   "execution_count": 27,
   "metadata": {
    "collapsed": true
   },
   "outputs": [],
   "source": [
    "rxn = cobrame.ComplexFormation('formation_complex_ab')\n",
    "me.add_reaction(rxn)\n",
    "rxn.complex_data_id = data.id\n",
    "rxn._complex_id = data.id"
   ]
  },
  {
   "cell_type": "markdown",
   "metadata": {},
   "source": [
    "#### Update ComplexFormation reaction"
   ]
  },
  {
   "cell_type": "raw",
   "metadata": {
    "raw_mimetype": "text/restructuredtext"
   },
   "source": [
    ".. automethod:: cobrame.core.reaction.ComplexFormation.update\n",
    "   :noindex:"
   ]
  },
  {
   "cell_type": "code",
   "execution_count": 28,
   "metadata": {
    "collapsed": false,
    "scrolled": true
   },
   "outputs": [
    {
     "name": "stdout",
     "output_type": "stream",
     "text": [
      "protein_a + protein_b --> complex_ab\n"
     ]
    }
   ],
   "source": [
    "rxn.update(verbose=False)\n",
    "print(me.reactions.formation_complex_ab.reaction)"
   ]
  },
  {
   "cell_type": "markdown",
   "metadata": {},
   "source": [
    "#### Apply modification to complex formation reaction\n",
    "Many enzyme complexes in an ME-model require cofactors or prosthetic groups in order to properly function. Information about such processes are stored as ModificationData.\n",
    "\n",
    "For instance, we can add the modification of an iron-sulfur cluster, a common prosthetic group, by doing the following:"
   ]
  },
  {
   "cell_type": "code",
   "execution_count": 29,
   "metadata": {
    "collapsed": true
   },
   "outputs": [],
   "source": [
    "# Define the stoichiometry of the modification \n",
    "mod_data = cobrame.SubreactionData('mod_2fe2s_c', me)\n",
    "mod_data.stoichiometry = {'2fe2s_c': -1}\n",
    "# this process can also be catalyzed by a chaperone\n",
    "mod_data.enzyme = 'complex_ba'\n",
    "mod_data.keff = 65.  # default value"
   ]
  },
  {
   "cell_type": "markdown",
   "metadata": {},
   "source": [
    "Associate modification to complex and ```update()``` its formation"
   ]
  },
  {
   "cell_type": "code",
   "execution_count": 30,
   "metadata": {
    "collapsed": true
   },
   "outputs": [],
   "source": [
    "complex_data = me.process_data.complex_ab\n",
    "complex_data.subreactions['mod_2fe2s_c'] = 1"
   ]
  },
  {
   "cell_type": "markdown",
   "metadata": {},
   "source": [
    "Update ComplexFormation reaction"
   ]
  },
  {
   "cell_type": "code",
   "execution_count": 31,
   "metadata": {
    "collapsed": false
   },
   "outputs": [
    {
     "name": "stdout",
     "output_type": "stream",
     "text": [
      "Before adding modification\n",
      "--------------------------\n",
      "protein_a + protein_b --> complex_ab\n",
      "Created <Complex complex_ba at 0x7f4bf69a8b38> in <ComplexFormation formation_complex_ab at 0x7f4bf5f13ef0>\n",
      "\n",
      "\n",
      "After adding modification\n",
      "-------------------------\n",
      "2fe2s_c + 4.27350427350427e-6*mu complex_ba + protein_a + protein_b --> complex_ab + 0.17582 prosthetic_group_biomass\n"
     ]
    }
   ],
   "source": [
    "print('Before adding modification')\n",
    "print('--------------------------')\n",
    "print(me.reactions.formation_complex_ab.reaction)\n",
    "me.reactions.formation_complex_ab.update()\n",
    "print('\\n')\n",
    "print('After adding modification')\n",
    "print('-------------------------')\n",
    "print(me.reactions.formation_complex_ab.reaction)"
   ]
  },
  {
   "cell_type": "markdown",
   "metadata": {},
   "source": [
    "### Add Metabolic Reaction\n",
    "#### Add StoichiometricData to model\n",
    "MetabolicReactions require, at a minimum, one corresponding StoichiometricData. StoichiometricData essentially holds the information contained in an M-model reaction. This includes the metabolite stoichiometry and the upper and lower bound of the reaction. As a best practice, StoichiometricData typically uses an ID equivalent to the M-model reaction ID.\n",
    "\n",
    "So first, we will create a StoichiometricData object to define the stoichiometry of the conversion of *a* to *b*. **Only one StoichiometricData object should be created for both reversible and irreversible reactions**"
   ]
  },
  {
   "cell_type": "raw",
   "metadata": {
    "raw_mimetype": "text/restructuredtext"
   },
   "source": [
    ".. autoclass:: cobrame.core.processdata.StoichiometricData\n",
    "   :noindex:"
   ]
  },
  {
   "cell_type": "code",
   "execution_count": 32,
   "metadata": {
    "collapsed": true
   },
   "outputs": [],
   "source": [
    "# unique to COBRAme, construct a stoichiometric data object with the reaction information\n",
    "data = cobrame.StoichiometricData('a_to_b', me)\n",
    "stoichiometry = {'a':-1, 'b': 1}\n",
    "data._stoichiometry = stoichiometry\n",
    "data.lower_bound = -1000\n",
    "data.upper_bound = 1000"
   ]
  },
  {
   "cell_type": "markdown",
   "metadata": {},
   "source": [
    "#### Add MetabolicReaction to model"
   ]
  },
  {
   "cell_type": "markdown",
   "metadata": {},
   "source": [
    "The StoichiometricData for this reversible reaction is then assigned to two different MetabolicReactions (Due to the enzyme dilution constraint, all enzyme catalyzed reactions must be reverisble; more on this later). The MetabolicReactions require:\n",
    " - The associated StoichiometricData\n",
    " - The *reverse* flag set to True for reverse reactions, False for forward reactions\n",
    " - Enzyme $K_{eff}$ for reaction (discussed later, dafault=65)\n",
    "\n",
    "These fields are then processed and the actual model reaction is created using the MetabolicReaction's update() function"
   ]
  },
  {
   "cell_type": "raw",
   "metadata": {
    "raw_mimetype": "text/restructuredtext"
   },
   "source": [
    ".. autoclass:: cobrame.core.reaction.MetabolicReaction\n",
    "   :noindex:"
   ]
  },
  {
   "cell_type": "code",
   "execution_count": 33,
   "metadata": {
    "collapsed": true
   },
   "outputs": [],
   "source": [
    "# Create a forward ME Metabolic Reaction and associate the stoichiometric data to it\n",
    "rxn_fwd = cobrame.MetabolicReaction('a_to_b_FWD_complex_ab')\n",
    "me.add_reaction(rxn_fwd)\n",
    "rxn_fwd.stoichiometric_data = data\n",
    "rxn_fwd.reverse = False\n",
    "rxn_fwd.keff = 65.\n",
    "\n",
    "# Create a reverse ME Metabolic Reaction and associate the stoichiometric data to it\n",
    "rxn_rev = cobrame.MetabolicReaction('a_to_b_REV_complex_ab')\n",
    "me.add_reaction(rxn_rev)\n",
    "rxn_rev.stoichiometric_data = data\n",
    "rxn_rev.reverse = True\n",
    "rxn_rev.keff = 65."
   ]
  },
  {
   "cell_type": "markdown",
   "metadata": {},
   "source": [
    "#### Update MetabolicReactions"
   ]
  },
  {
   "cell_type": "raw",
   "metadata": {
    "raw_mimetype": "text/restructuredtext"
   },
   "source": [
    ".. automethod:: cobrame.core.reaction.MetabolicReaction.update\n",
    "   :noindex:"
   ]
  },
  {
   "cell_type": "code",
   "execution_count": 34,
   "metadata": {
    "collapsed": false,
    "scrolled": true
   },
   "outputs": [
    {
     "name": "stdout",
     "output_type": "stream",
     "text": [
      "a --> b\n",
      "b --> a\n"
     ]
    }
   ],
   "source": [
    "rxn_fwd.update(verbose=False)\n",
    "rxn_rev.update(verbose=False)\n",
    "print(me.reactions.a_to_b_FWD_complex_ab.reaction)\n",
    "print(me.reactions.a_to_b_REV_complex_ab.reaction)"
   ]
  },
  {
   "cell_type": "markdown",
   "metadata": {},
   "source": [
    "<div class=\"alert alert-info\">\n",
    "**Note**: the $k_{eff}$ and `complex_ab` is not included in the reaction since no complex has been associated to it yet\n",
    "</div>"
   ]
  },
  {
   "cell_type": "markdown",
   "metadata": {},
   "source": [
    "#### Associate enzyme with MetabolicReaction"
   ]
  },
  {
   "cell_type": "markdown",
   "metadata": {},
   "source": [
    "The ComplexData object created in the previous cell can be incorporated into the MetabolicReaction using code below. \n",
    "\n",
    "<div class=\"alert alert-info\">\n",
    "**Note**: the update() function is required to apply the change.\n",
    "</div>"
   ]
  },
  {
   "cell_type": "code",
   "execution_count": 35,
   "metadata": {
    "collapsed": false
   },
   "outputs": [
    {
     "name": "stdout",
     "output_type": "stream",
     "text": [
      "Forward reaction (before update): a --> b\n",
      "Forward reaction (after update): a + 4.27350427350427e-6*mu complex_ab --> b\n",
      "\n",
      "Reverse reaction (before update): b --> a\n",
      "Reverse reaction (after update): b + 4.27350427350427e-6*mu complex_ab --> a\n"
     ]
    }
   ],
   "source": [
    "data = me.process_data.complex_ab\n",
    "me.reactions.a_to_b_FWD_complex_ab.complex_data = data\n",
    "print('Forward reaction (before update): %s' %\n",
    "      (me.reactions.a_to_b_FWD_complex_ab.reaction))\n",
    "me.reactions.a_to_b_FWD_complex_ab.update()\n",
    "print('Forward reaction (after update): %s' %\n",
    "      (me.reactions.a_to_b_FWD_complex_ab.reaction))\n",
    "print('')\n",
    "\n",
    "me.reactions.a_to_b_REV_complex_ab.complex_data = data\n",
    "print('Reverse reaction (before update): %s' %\n",
    "      (me.reactions.a_to_b_REV_complex_ab.reaction))\n",
    "me.reactions.a_to_b_REV_complex_ab.update()\n",
    "print('Reverse reaction (after update): %s' %\n",
    "      (me.reactions.a_to_b_REV_complex_ab.reaction))"
   ]
  },
  {
   "cell_type": "markdown",
   "metadata": {},
   "source": [
    "The coefficient for complex_ab is determined by the expression $$\\frac{\\mu}{k_{eff}}$$ which in its entirety represents the dilution of an enzyme following a cell doubling. The coupling constraint can be summarized as followed\n",
    "$$ \n",
    "\\begin{align}\n",
    "&v_{dilution,j} = \\mu \\sum_{i} \\left( \\frac{1}{k_{eff,i}} v_{usage,i} \\right), & \\forall j \\in Enzyme\n",
    "\\end{align}\n",
    "$$\n",
    "\n",
    "Where \n",
    "\n",
    " - $v_{usage,i}$ is the flux through the metabolic reaction\n",
    " - $k_{eff}$ is the turnover rate for the process and conveys the productivity of the enzyme complex. Physically, it can be thought of as the number of reactions the enzyme can catalyze per cell division. \n",
    "\n",
    "\n",
    "By default the $k_{eff}$ for a MetabolicReaction is set to 65 but this can be changed using the code below."
   ]
  },
  {
   "cell_type": "markdown",
   "metadata": {},
   "source": [
    "#### Different Keff for forward reaction"
   ]
  },
  {
   "cell_type": "code",
   "execution_count": 36,
   "metadata": {
    "collapsed": false,
    "scrolled": true
   },
   "outputs": [
    {
     "name": "stdout",
     "output_type": "stream",
     "text": [
      "Forward reaction\n",
      "----------------\n",
      "a + 27.7777777777778*mu complex_ab --> b\n",
      "\n",
      "Reverse reaction\n",
      "----------------\n",
      "b + 4.27350427350427e-6*mu complex_ab --> a\n"
     ]
    }
   ],
   "source": [
    "me.reactions.a_to_b_FWD_complex_ab.keff = .00001\n",
    "me.reactions.a_to_b_FWD_complex_ab.update()\n",
    "\n",
    "# The forward and reverse direction can have differing keffs\n",
    "print('Forward reaction')\n",
    "print('----------------')\n",
    "print(me.reactions.a_to_b_FWD_complex_ab.reaction)\n",
    "print('')\n",
    "print('Reverse reaction')\n",
    "print('----------------')\n",
    "print(me.reactions.a_to_b_REV_complex_ab.reaction)"
   ]
  },
  {
   "cell_type": "markdown",
   "metadata": {},
   "source": [
    "## Adding Reactions using utility functions\n",
    "Add reactions using some of the utility functions provided in `cobrame.util.building.py`\n",
    "\n",
    "### Transcription\n",
    "Using the utility functions to create the TranscribedGene metabolite has the advantage of forcing the assignment of sequence, strand and RNA_type. "
   ]
  },
  {
   "cell_type": "raw",
   "metadata": {
    "raw_mimetype": "text/restructuredtext"
   },
   "source": [
    ".. autofunction:: cobrame.util.building.create_transcribed_gene\n",
    "    :noindex:"
   ]
  },
  {
   "cell_type": "code",
   "execution_count": 37,
   "metadata": {
    "collapsed": false,
    "scrolled": true
   },
   "outputs": [
    {
     "name": "stdout",
     "output_type": "stream",
     "text": [
      "86 atp_c + 38 ctp_c + 12 gtp_c + 182 h2o_c + 50 utp_c --> RNA_b + 85 amp_c + 37 cmp_c + 11 gmp_c + 182 h_c + 186 ppi_c + 1.2817349999999998 tRNA_biomass + 49 ump_c\n"
     ]
    },
    {
     "name": "stderr",
     "output_type": "stream",
     "text": [
      "/home/sbrg-cjlloyd/cobrame/cobrame/core/reaction.py:813 \u001b[1;31mUserWarning\u001b[0m: RNA Polymerase () not found\n"
     ]
    }
   ],
   "source": [
    "building.create_transcribed_gene(me, 'b','tRNA', 'ATCG')\n",
    "building.add_transcription_reaction(me, 'TU_b', {'b'}, sequence)\n",
    "print(me.reactions.transcription_TU_b.reaction)\n",
    "me.reactions.transcription_TU_b.update()"
   ]
  },
  {
   "cell_type": "markdown",
   "metadata": {},
   "source": [
    "### Translation\n",
    "`add_translation_reaction` assumes that the RNA and protein have the same locus_id. It creates the appropriate `TranslationData` and `TranslationReaction` instance, links the two together and updates the `TranslationReaction`."
   ]
  },
  {
   "cell_type": "raw",
   "metadata": {
    "raw_mimetype": "text/restructuredtext"
   },
   "source": [
    ".. autofunction:: cobrame.util.building.add_translation_reaction\n",
    "    :noindex:"
   ]
  },
  {
   "cell_type": "code",
   "execution_count": 38,
   "metadata": {
    "collapsed": false,
    "scrolled": false
   },
   "outputs": [
    {
     "name": "stderr",
     "output_type": "stream",
     "text": [
      "/home/sbrg-cjlloyd/cobrame/cobrame/core/reaction.py:1094 \u001b[1;31mUserWarning\u001b[0m: RNA_degradosome not found\n"
     ]
    },
    {
     "name": "stdout",
     "output_type": "stream",
     "text": [
      "0.000498399634202103*mu + 0.000195123456790123 + 0.00598079561042524*(mu + 0.3915)/mu RNA_b + 12 asp__L_c + 0.00448559670781893*(mu + 0.3915)/mu atp_c + 0.0076657950617284*(mu + 0.3915)/mu mRNA_biomass + met__L_c + 12 phe__L_c + 0.000874533914506385*mu + 0.00034238002752925 ribosome + 12 ser__L_c + 12 thr__L_c + 12 tyr__L_c --> 0.00448559670781893*(mu + 0.3915)/mu adp_c + 0.00598079561042524*(mu + 0.3915)/mu amp_c + 0.00598079561042524*(mu + 0.3915)/mu cmp_c + 0.00598079561042524*(mu + 0.3915)/mu gmp_c + 60.0 - 0.00448559670781893*(mu + 0.3915)/mu h2o_c + 0.00448559670781893*(mu + 0.3915)/mu h_c + 0.00448559670781893*(mu + 0.3915)/mu pi_c + protein_b + 7.500606 protein_biomass + 0.00598079561042524*(mu + 0.3915)/mu ump_c\n"
     ]
    }
   ],
   "source": [
    "building.add_translation_reaction(me, 'b', dna_sequence=sequence, update=True)\n",
    "print(me.reactions.translation_b.reaction)"
   ]
  },
  {
   "cell_type": "markdown",
   "metadata": {},
   "source": [
    "### Complex Formation\n",
    "Alternatively, ComplexData has a ```create_complex_formation()``` function to create the sythesis reaction following the naming conventions. It contains an ```update()``` function which incorporates changes in the ComplexData"
   ]
  },
  {
   "cell_type": "raw",
   "metadata": {
    "raw_mimetype": "text/restructuredtext"
   },
   "source": [
    ".. automethod:: cobrame.core.processdata.ComplexData.create_complex_formation\n",
    "    :noindex:"
   ]
  },
  {
   "cell_type": "code",
   "execution_count": 39,
   "metadata": {
    "collapsed": false
   },
   "outputs": [
    {
     "name": "stdout",
     "output_type": "stream",
     "text": [
      "protein_a + protein_b --> complex_ba\n"
     ]
    }
   ],
   "source": [
    "data = cobrame.ComplexData('complex_ba', me)\n",
    "data.stoichiometry = {'protein_a': 1, 'protein_b': 1}\n",
    "data.create_complex_formation()\n",
    "print(me.reactions.formation_complex_ba.reaction)"
   ]
  },
  {
   "cell_type": "markdown",
   "metadata": {},
   "source": [
    "### Metabolic Reaction"
   ]
  },
  {
   "cell_type": "raw",
   "metadata": {
    "raw_mimetype": "text/restructuredtext"
   },
   "source": [
    ".. autofunction:: cobrame.util.building.add_metabolic_reaction_to_model\n",
    "    :noindex:"
   ]
  },
  {
   "cell_type": "code",
   "execution_count": 40,
   "metadata": {
    "collapsed": false
   },
   "outputs": [
    {
     "name": "stdout",
     "output_type": "stream",
     "text": [
      "Created <Metabolite c at 0x7f4bf6abf6d8> in <MetabolicReaction b_to_c_FWD_complex_ab at 0x7f4bf6abf7b8>\n",
      "Reaction b_to_c\n",
      "---------------\n",
      "b + 4.27350427350427e-6*mu complex_ab --> c\n"
     ]
    }
   ],
   "source": [
    "stoich_data = cobrame.StoichiometricData('b_to_c', me)\n",
    "stoich_data._stoichiometry = {'b': -1, 'c': 1}\n",
    "stoich_data.lower_bound = 0\n",
    "stoich_data.upper_bound = 1000.\n",
    "building.add_metabolic_reaction_to_model(me, stoich_data.id, 'forward', complex_id='complex_ab',\n",
    "                                         update=True)\n",
    "print('Reaction b_to_c')\n",
    "print('---------------')\n",
    "print(me.reactions.b_to_c_FWD_complex_ab.reaction)"
   ]
  }
 ],
 "metadata": {
  "celltoolbar": "Raw Cell Format",
  "kernelspec": {
   "display_name": "python3.6",
   "language": "python",
   "name": "python3.6"
  },
  "language_info": {
   "codemirror_mode": {
    "name": "ipython",
    "version": 3
   },
   "file_extension": ".py",
   "mimetype": "text/x-python",
   "name": "python",
   "nbconvert_exporter": "python",
   "pygments_lexer": "ipython3",
   "version": "3.6.3"
  }
 },
 "nbformat": 4,
 "nbformat_minor": 1
}
