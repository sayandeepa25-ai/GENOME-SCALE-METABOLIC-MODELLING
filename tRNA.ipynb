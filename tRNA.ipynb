{
 "cells": [
  {
   "cell_type": "markdown",
   "metadata": {},
   "source": [
    "Usually, We will charge a tRNA with the following reaction."
   ]
  },
  {
   "cell_type": "markdown",
   "metadata": {},
   "source": [
    "$AA + tRNA + \\frac{\\mu}{k_{eff,charging}} \\text{synthetase} \\rightarrow tRNA^* $"
   ]
  },
  {
   "cell_type": "markdown",
   "metadata": {},
   "source": [
    "However, we will split this up, so that amino acids are added to the protein separately along with the appropriate generic tRNA. However, we need to figure out how much of this tRNA to use."
   ]
  },
  {
   "cell_type": "markdown",
   "metadata": {},
   "source": [
    "$ tRNA + \\frac{\\mu}{k_{eff,charging}} \\text{synthetase} \\rightarrow tRNA^* $"
   ]
  },
  {
   "cell_type": "markdown",
   "metadata": {},
   "source": [
    "During translation, a tRNA is used to make the protein. However, because the tRNA is being used as part of a catalyst, it also needs to be made with a coupling constraint.\n",
    "\n",
    "$\\left(1 + \\frac{\\mu}{k_{eff,tRNA}}\\right) tRNA^* \\rightarrow tRNA + \\text{protein}$"
   ]
  },
  {
   "cell_type": "markdown",
   "metadata": {},
   "source": [
    "Therefore, we can combine translation and tRNA charging into a single reaction."
   ]
  },
  {
   "cell_type": "markdown",
   "metadata": {},
   "source": [
    "$\\left(1 + \\frac{\\mu}{k_{eff,tRNA}}\\right) \\left(AA + tRNA + \\frac{\\mu}{k_{eff,charging}} \\text{synthetase}\\right) \\rightarrow tRNA + \\text{protein}$"
   ]
  },
  {
   "cell_type": "markdown",
   "metadata": {},
   "source": [
    "$ AA + tRNA + \\left(1 + \\frac{\\mu}{k_{eff,tRNA}}\\right) \\frac{\\mu}{k_{eff,charging}} \\text{synthetase} + \\frac{\\mu}{k_{eff,tRNA}}(tRNA + AA) \\rightarrow tRNA + \\text{protein}$"
   ]
  },
  {
   "cell_type": "markdown",
   "metadata": {},
   "source": [
    "$ AA  + \\left(1 + \\frac{\\mu}{k_{eff,tRNA}}\\right) \\frac{\\mu}{k_{eff,charging}} \\text{synthetase} + \\frac{\\mu}{k_{eff,tRNA}}(tRNA + AA) \\rightarrow \\text{protein}$"
   ]
  },
  {
   "cell_type": "markdown",
   "metadata": {},
   "source": [
    "We  can now split this into two separate reactions. One will produce a generic tRNA representing the creation of enough tRNA for that amino acid to be tranlsated once (other tRNA's for the same amino acid will also be produce the same generic tRNA."
   ]
  },
  {
   "cell_type": "markdown",
   "metadata": {},
   "source": [
    "$ AA + \\text{generic_tRNA}_{AA} \\rightarrow \\text{protein} $\n",
    "\n",
    "$\\left(1 + \\frac{\\mu}{k_{eff,tRNA}}\\right) \\frac{\\mu}{k_{eff,charging}} \\text{synthetase} + \\frac{\\mu}{k_{eff,tRNA}}(tRNA + AA) \\rightarrow \\text{generic_tRNA}_{AA} $"
   ]
  }
 ],
 "metadata": {
  "kernelspec": {
   "display_name": "Python 2",
   "language": "python",
   "name": "python2"
  },
  "language_info": {
   "codemirror_mode": {
    "name": "ipython",
    "version": 2
   },
   "file_extension": ".py",
   "mimetype": "text/x-python",
   "name": "python",
   "nbconvert_exporter": "python",
   "pygments_lexer": "ipython2",
   "version": "2.7.6"
  }
 },
 "nbformat": 4,
 "nbformat_minor": 0
}
